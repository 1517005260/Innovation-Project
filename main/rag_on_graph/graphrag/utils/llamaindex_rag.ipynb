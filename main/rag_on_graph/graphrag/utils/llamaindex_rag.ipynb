{
 "cells": [
  {
   "cell_type": "markdown",
   "id": "b012de7253caedcb",
   "metadata": {},
   "source": [
    "# langchain + llamaindex 集成 graphrag\n",
    "\n",
    "python==3.10\n",
    "\n",
    "参考：https://github.com/tomasonjo/blogs/blob/master/msft_graphrag/ms_graphrag_retriever.ipynb"
   ]
  },
  {
   "cell_type": "code",
   "execution_count": 1,
   "id": "d06dffc6508cf80b",
   "metadata": {
    "jupyter": {
     "is_executing": true
    }
   },
   "outputs": [],
   "source": [
    "!pip install --quiet tqdm neo4j seaborn tiktoken shutup numpy openai"
   ]
  },
  {
   "cell_type": "code",
   "execution_count": 2,
   "id": "ed482970fd9ab6bd",
   "metadata": {
    "ExecuteTime": {
     "end_time": "2024-12-03T06:09:48.001006Z",
     "start_time": "2024-12-03T06:09:46.770611Z"
    }
   },
   "outputs": [],
   "source": [
    "import shutup\n",
    "shutup.please()\n",
    "\n",
    "import os\n",
    "import getpass\n",
    "from neo4j import GraphDatabase, Result\n",
    "import pandas as pd\n",
    "import seaborn as sns\n",
    "import matplotlib.pyplot as plt\n",
    "import tiktoken\n",
    "import numpy as np\n",
    "from tqdm import tqdm\n",
    "from typing import Dict, Any\n",
    "from langchain_openai import OpenAIEmbeddings, ChatOpenAI\n",
    "from langchain_community.vectorstores import Neo4jVector\n",
    "from langchain_community.graphs import Neo4jGraph\n",
    "from langchain_core.prompts import ChatPromptTemplate\n",
    "from langchain_core.output_parsers import StrOutputParser\n",
    "\n",
    "# pd 展示设置\n",
    "pd.set_option(\"display.max_colwidth\", None) \n",
    "pd.set_option(\"display.max_columns\", None)"
   ]
  },
  {
   "cell_type": "code",
   "execution_count": 3,
   "id": "62725a16a4ac7a94",
   "metadata": {
    "ExecuteTime": {
     "end_time": "2024-12-03T06:09:48.951247Z",
     "start_time": "2024-12-03T06:09:48.942840Z"
    }
   },
   "outputs": [],
   "source": [
    "NEO4J_URI = \"neo4j://localhost:7687\"\n",
    "NEO4J_USERNAME = \"neo4j\"\n",
    "NEO4J_PASSWORD = \"12345678\"\n",
    "\n",
    "driver = GraphDatabase.driver(NEO4J_URI, auth=(NEO4J_USERNAME, NEO4J_PASSWORD))\n",
    "\n",
    "# 查询函数定义\n",
    "def db_query(cypher: str, params: Dict[str, Any] = {}) -> pd.DataFrame:\n",
    "    return driver.execute_query(\n",
    "        cypher, parameters_=params, result_transformer_=Result.to_df\n",
    "    )"
   ]
  },
  {
   "cell_type": "code",
   "execution_count": 4,
   "id": "19f538272a29fd5a",
   "metadata": {
    "ExecuteTime": {
     "end_time": "2024-12-03T06:10:13.515787Z",
     "start_time": "2024-12-03T06:09:49.863308Z"
    }
   },
   "outputs": [],
   "source": [
    "os.environ[\"OPENAI_API_KEY\"] = \"sk-6n3IuwDfeMEZggn2A61a818dC722474292D929C27004Fe82\"\n",
    "os.environ[\"OPENAI_BASE_URL\"] =\"http://localhost:13000/v1\""
   ]
  },
  {
   "cell_type": "code",
   "execution_count": 5,
   "id": "13aff4a6df24217d",
   "metadata": {
    "ExecuteTime": {
     "end_time": "2024-12-03T06:10:15.403688Z",
     "start_time": "2024-12-03T06:10:15.323341Z"
    }
   },
   "outputs": [
    {
     "data": {
      "text/html": [
       "<div>\n",
       "<style scoped>\n",
       "    .dataframe tbody tr th:only-of-type {\n",
       "        vertical-align: middle;\n",
       "    }\n",
       "\n",
       "    .dataframe tbody tr th {\n",
       "        vertical-align: top;\n",
       "    }\n",
       "\n",
       "    .dataframe thead th {\n",
       "        text-align: right;\n",
       "    }\n",
       "</style>\n",
       "<table border=\"1\" class=\"dataframe\">\n",
       "  <thead>\n",
       "    <tr style=\"text-align: right;\">\n",
       "      <th></th>\n",
       "      <th>token_count</th>\n",
       "      <th>count</th>\n",
       "    </tr>\n",
       "  </thead>\n",
       "  <tbody>\n",
       "    <tr>\n",
       "      <th>0</th>\n",
       "      <td>1200</td>\n",
       "      <td>18</td>\n",
       "    </tr>\n",
       "    <tr>\n",
       "      <th>1</th>\n",
       "      <td>907</td>\n",
       "      <td>1</td>\n",
       "    </tr>\n",
       "    <tr>\n",
       "      <th>2</th>\n",
       "      <td>1047</td>\n",
       "      <td>1</td>\n",
       "    </tr>\n",
       "    <tr>\n",
       "      <th>3</th>\n",
       "      <td>1055</td>\n",
       "      <td>1</td>\n",
       "    </tr>\n",
       "    <tr>\n",
       "      <th>4</th>\n",
       "      <td>283</td>\n",
       "      <td>1</td>\n",
       "    </tr>\n",
       "    <tr>\n",
       "      <th>5</th>\n",
       "      <td>176</td>\n",
       "      <td>1</td>\n",
       "    </tr>\n",
       "    <tr>\n",
       "      <th>6</th>\n",
       "      <td>212</td>\n",
       "      <td>1</td>\n",
       "    </tr>\n",
       "    <tr>\n",
       "      <th>7</th>\n",
       "      <td>989</td>\n",
       "      <td>1</td>\n",
       "    </tr>\n",
       "    <tr>\n",
       "      <th>8</th>\n",
       "      <td>627</td>\n",
       "      <td>1</td>\n",
       "    </tr>\n",
       "    <tr>\n",
       "      <th>9</th>\n",
       "      <td>471</td>\n",
       "      <td>1</td>\n",
       "    </tr>\n",
       "    <tr>\n",
       "      <th>10</th>\n",
       "      <td>560</td>\n",
       "      <td>1</td>\n",
       "    </tr>\n",
       "    <tr>\n",
       "      <th>11</th>\n",
       "      <td>419</td>\n",
       "      <td>1</td>\n",
       "    </tr>\n",
       "    <tr>\n",
       "      <th>12</th>\n",
       "      <td>197</td>\n",
       "      <td>1</td>\n",
       "    </tr>\n",
       "  </tbody>\n",
       "</table>\n",
       "</div>"
      ],
      "text/plain": [
       "    token_count  count\n",
       "0          1200     18\n",
       "1           907      1\n",
       "2          1047      1\n",
       "3          1055      1\n",
       "4           283      1\n",
       "5           176      1\n",
       "6           212      1\n",
       "7           989      1\n",
       "8           627      1\n",
       "9           471      1\n",
       "10          560      1\n",
       "11          419      1\n",
       "12          197      1"
      ]
     },
     "execution_count": 5,
     "metadata": {},
     "output_type": "execute_result"
    }
   ],
   "source": [
    "db_query(\"MATCH (n:__Chunk__) RETURN n.n_tokens as token_count, count(*) AS count\")"
   ]
  },
  {
   "cell_type": "code",
   "execution_count": 6,
   "id": "762faaef800ec128",
   "metadata": {
    "ExecuteTime": {
     "end_time": "2024-12-03T06:10:16.625032Z",
     "start_time": "2024-12-03T06:10:16.574064Z"
    }
   },
   "outputs": [
    {
     "data": {
      "text/html": [
       "<div>\n",
       "<style scoped>\n",
       "    .dataframe tbody tr th:only-of-type {\n",
       "        vertical-align: middle;\n",
       "    }\n",
       "\n",
       "    .dataframe tbody tr th {\n",
       "        vertical-align: top;\n",
       "    }\n",
       "\n",
       "    .dataframe thead th {\n",
       "        text-align: right;\n",
       "    }\n",
       "</style>\n",
       "<table border=\"1\" class=\"dataframe\">\n",
       "  <thead>\n",
       "    <tr style=\"text-align: right;\">\n",
       "      <th></th>\n",
       "      <th>name</th>\n",
       "      <th>description</th>\n",
       "    </tr>\n",
       "  </thead>\n",
       "  <tbody>\n",
       "    <tr>\n",
       "      <th>0</th>\n",
       "      <td>华东理工大学</td>\n",
       "      <td>华东理工大学是一所位于中国东部的高等教育机构，不仅致力于提供本科和研究生教育，还特别关注学生的全面发展和个性化需求。该校制定了一系列管理办法和条例，包括本科生国家奖学金管理办法、社会工作奖评选条例、上海市奖学金管理办法、国家励志奖学金管理办法等，旨在规范奖学金的评审工作，提高学生的管理意识和组织能力，激励家庭经济困难学生勤奋学习。此外，学校还参与实施退役士兵教育资助政策，并制定了毕业生基层就业国家资助管理条例，支持毕业生到中西部地区和艰苦边远地区基层单位就业。\\n\\n学校设有学生工作部（处），专门负责处理学生的各类事务，确保学生的学习生活顺利进行。为了进一步促进学生的德育发展，华东理工大学还制定了学生德育素质考核的具体实施办法。与此同时，学校非常重视学生的权益保护，规定了学生考核违规处理办法和学生申诉处理规定，并设立了学生申诉处理委员会，以公正、透明的方式处理学生的申诉。此外，该校还制定了学生先进个人和集体评选办法，以表彰在学术、社会实践等方面表现突出的学生和集体。通过这些措施，华东理工大学努力营造一个公平、公正、和谐的校园环境。</td>\n",
       "    </tr>\n",
       "  </tbody>\n",
       "</table>\n",
       "</div>"
      ],
      "text/plain": [
       "     name  \\\n",
       "0  华东理工大学   \n",
       "\n",
       "                                                                                                                                                                                                                                                                                                                                                                                                                                                                                description  \n",
       "0  华东理工大学是一所位于中国东部的高等教育机构，不仅致力于提供本科和研究生教育，还特别关注学生的全面发展和个性化需求。该校制定了一系列管理办法和条例，包括本科生国家奖学金管理办法、社会工作奖评选条例、上海市奖学金管理办法、国家励志奖学金管理办法等，旨在规范奖学金的评审工作，提高学生的管理意识和组织能力，激励家庭经济困难学生勤奋学习。此外，学校还参与实施退役士兵教育资助政策，并制定了毕业生基层就业国家资助管理条例，支持毕业生到中西部地区和艰苦边远地区基层单位就业。\\n\\n学校设有学生工作部（处），专门负责处理学生的各类事务，确保学生的学习生活顺利进行。为了进一步促进学生的德育发展，华东理工大学还制定了学生德育素质考核的具体实施办法。与此同时，学校非常重视学生的权益保护，规定了学生考核违规处理办法和学生申诉处理规定，并设立了学生申诉处理委员会，以公正、透明的方式处理学生的申诉。此外，该校还制定了学生先进个人和集体评选办法，以表彰在学术、社会实践等方面表现突出的学生和集体。通过这些措施，华东理工大学努力营造一个公平、公正、和谐的校园环境。  "
      ]
     },
     "execution_count": 6,
     "metadata": {},
     "output_type": "execute_result"
    }
   ],
   "source": [
    "db_query(\n",
    "    \"MATCH (n:__Entity__) RETURN n.name AS name, n.description AS description LIMIT 1\"\n",
    ")"
   ]
  },
  {
   "cell_type": "code",
   "execution_count": 7,
   "id": "8687da9641c8fe54",
   "metadata": {
    "ExecuteTime": {
     "end_time": "2024-12-03T06:10:17.603061Z",
     "start_time": "2024-12-03T06:10:17.542199Z"
    }
   },
   "outputs": [
    {
     "data": {
      "text/html": [
       "<div>\n",
       "<style scoped>\n",
       "    .dataframe tbody tr th:only-of-type {\n",
       "        vertical-align: middle;\n",
       "    }\n",
       "\n",
       "    .dataframe tbody tr th {\n",
       "        vertical-align: top;\n",
       "    }\n",
       "\n",
       "    .dataframe thead th {\n",
       "        text-align: right;\n",
       "    }\n",
       "</style>\n",
       "<table border=\"1\" class=\"dataframe\">\n",
       "  <thead>\n",
       "    <tr style=\"text-align: right;\">\n",
       "      <th></th>\n",
       "      <th>description</th>\n",
       "    </tr>\n",
       "  </thead>\n",
       "  <tbody>\n",
       "    <tr>\n",
       "      <th>0</th>\n",
       "      <td>《学生违纪处分规定》是由华东理工大学制定并实施的规定，用于管理和规范学生的行为。</td>\n",
       "    </tr>\n",
       "    <tr>\n",
       "      <th>1</th>\n",
       "      <td>华东理工大学制定了学生考核违规处理办法，明确了对违规行为的处理措施。</td>\n",
       "    </tr>\n",
       "    <tr>\n",
       "      <th>2</th>\n",
       "      <td>华东理工大学制定了学生申诉处理规定，确保学生在受到处分时有申诉的权利。</td>\n",
       "    </tr>\n",
       "    <tr>\n",
       "      <th>3</th>\n",
       "      <td>华东理工大学负责管理和实施上海市奖学金，两者之间存在直接的管理和实施关系。</td>\n",
       "    </tr>\n",
       "    <tr>\n",
       "      <th>4</th>\n",
       "      <td>华东理工大学制定了具体的管理办法来规范本科生国家奖学金的评审工作。</td>\n",
       "    </tr>\n",
       "  </tbody>\n",
       "</table>\n",
       "</div>"
      ],
      "text/plain": [
       "                                description\n",
       "0  《学生违纪处分规定》是由华东理工大学制定并实施的规定，用于管理和规范学生的行为。\n",
       "1        华东理工大学制定了学生考核违规处理办法，明确了对违规行为的处理措施。\n",
       "2       华东理工大学制定了学生申诉处理规定，确保学生在受到处分时有申诉的权利。\n",
       "3     华东理工大学负责管理和实施上海市奖学金，两者之间存在直接的管理和实施关系。\n",
       "4         华东理工大学制定了具体的管理办法来规范本科生国家奖学金的评审工作。"
      ]
     },
     "execution_count": 7,
     "metadata": {},
     "output_type": "execute_result"
    }
   ],
   "source": [
    "db_query(\"MATCH ()-[n:RELATED]->() RETURN n.description AS description LIMIT 5\")"
   ]
  },
  {
   "cell_type": "code",
   "execution_count": 8,
   "id": "832212551be10120",
   "metadata": {
    "ExecuteTime": {
     "end_time": "2024-12-03T06:10:18.573488Z",
     "start_time": "2024-12-03T06:10:18.510341Z"
    }
   },
   "outputs": [
    {
     "data": {
      "text/html": [
       "<div>\n",
       "<style scoped>\n",
       "    .dataframe tbody tr th:only-of-type {\n",
       "        vertical-align: middle;\n",
       "    }\n",
       "\n",
       "    .dataframe tbody tr th {\n",
       "        vertical-align: top;\n",
       "    }\n",
       "\n",
       "    .dataframe thead th {\n",
       "        text-align: right;\n",
       "    }\n",
       "</style>\n",
       "<table border=\"1\" class=\"dataframe\">\n",
       "  <thead>\n",
       "    <tr style=\"text-align: right;\">\n",
       "      <th></th>\n",
       "      <th>title</th>\n",
       "      <th>summary</th>\n",
       "      <th>full_content</th>\n",
       "    </tr>\n",
       "  </thead>\n",
       "  <tbody>\n",
       "    <tr>\n",
       "      <th>0</th>\n",
       "      <td>大学奖学金申请条件与社区活动</td>\n",
       "      <td>该社区围绕大学奖学金申请条件展开，涵盖了多项评价标准，包括学习成绩、竞赛奖励、社会工作、社会实践和道德风尚等方面。各实体之间关系紧密，尤其在国家奖学金申请条件中，多种成就可以作为申请的补充条件。</td>\n",
       "      <td># 大学奖学金申请条件与社区活动\\n\\n该社区围绕大学奖学金申请条件展开，涵盖了多项评价标准，包括学习成绩、竞赛奖励、社会工作、社会实践和道德风尚等方面。各实体之间关系紧密，尤其在国家奖学金申请条件中，多种成就可以作为申请的补充条件。\\n\\n## 学习成绩与综合考评的重要性\\n\\n学习成绩排名与综合考评成绩排名均位于前10%是申请国家奖学金的重要条件之一。这表明学术成绩仍然是评估学生是否适合获得国家奖学金的关键因素。然而，除了学术成绩外，其他方面的表现也可以作为补充条件，增加了奖学金申请的灵活性。[records: Entities (251), Relationships (295)]\\n\\n## 竞赛奖励在奖学金申请中的作用\\n\\n获得省（市）、部级及以上竞赛奖励是申请国家奖学金的基本条件之一。这意味着竞赛奖励不仅反映了学生的学术能力和实践技能，还在奖学金申请过程中扮演了重要角色。例如，体育竞赛和艺术展演中的显著成绩也可以作为申请国家奖学金的补充条件，进一步强调了多元化评价的重要性。[records: Entities (199), Relationships (218, 224, 299)]\\n\\n## 社会工作的多重影响\\n\\n社会工作B等奖及以上和社会工作方面的显著成绩是申请国家奖学金的基本条件之一。这表明学校非常重视学生在社会服务和志愿服务中的表现，认为这些经历对于学生的全面发展至关重要。此外，社会工作还可以提升学生的领导力和团队合作能力，这对他们的未来职业发展具有积极影响。[records: Entities (250, 256), Relationships (294, 302)]\\n\\n## 社会实践的意义\\n\\n在社会实践方面有显著成绩的学生，即使学习成绩排名未达前10%，也可申请国家奖学金。这表明学校鼓励学生积极参与社会实践活动，如志愿服务和社会调研。这些活动不仅有助于学生了解社会现实，还能培养他们的社会责任感和创新能力。[records: Entities (255), Relationships (301)]\\n\\n## 道德风尚的特别考量\\n\\n在道德风尚方面有特别优秀表现的学生，即使学习成绩排名未达前10%，也可申请国家奖学金。这一规定旨在激励学生在品德修养方面不断进步，体现了学校对全面发展的重视。道德风尚的评价标准可能包括诚实守信、助人为乐、勇于担当等方面。[records: Relationships (296)]\\n\\n## 体育竞赛与国家荣誉的关系\\n\\n在体育竞赛中为国家争得荣誉，如非体育专业学生在省（市）级以上体育比赛中获得个人项目前三名，是申请国家奖学金的加分条件之一。这表明学校高度重视学生在体育领域的成就，并鼓励他们在国际和国内比赛中为国家争光。[records: Entities (212, 262), Relationships (222, 223)]\\n\\n## 艺术展演的多重价值\\n\\n艺术展演是指学生在艺术表演和展览中的表现，尤其是在全国性和地方性的艺术展演中所取得的成绩。这一成绩不仅是学生个人能力的体现，也是学校艺术教育水平的重要标志。此外，艺术展演中的显著成绩还是申请上海市奖学金的一个额外条件，这意味着在这些活动中表现出色的学生将有机会获得更多的认可和支持。[records: Entities (213), Relationships (224)]\\n\\n## 学科竞赛的重要性\\n\\n在学科竞赛中有显著成绩的学生，即使学习成绩排名未达前10%，也可申请国家奖学金。这表明学科竞赛不仅是学术水平的体现，也是评价学生综合素质的重要途径。通过学科竞赛，学生可以展示他们在特定学科领域的深度理解和创新能力。[records: Relationships (299)]\\n\\n## 多元化评价体系\\n\\n综上所述，大学奖学金申请条件涵盖了学习成绩、竞赛奖励、社会工作、社会实践和道德风尚等多个方面，形成了一个多元化的评价体系。这种体系不仅能够全面评估学生的综合素质，还能激励学生在各个方面努力发展，促进其全面发展。[records: NONE]</td>\n",
       "    </tr>\n",
       "  </tbody>\n",
       "</table>\n",
       "</div>"
      ],
      "text/plain": [
       "            title  \\\n",
       "0  大学奖学金申请条件与社区活动   \n",
       "\n",
       "                                                                                             summary  \\\n",
       "0  该社区围绕大学奖学金申请条件展开，涵盖了多项评价标准，包括学习成绩、竞赛奖励、社会工作、社会实践和道德风尚等方面。各实体之间关系紧密，尤其在国家奖学金申请条件中，多种成就可以作为申请的补充条件。   \n",
       "\n",
       "                                                                                                                                                                                                                                                                                                                                                                                                                                                                                                                                                                                                                                                                                                                                                                                                                                                                                                                                                                                                                                                                                                                                                                                                                                                                                                                                                                                                                                                                                                                                                                                                                                                                                                                                                                                  full_content  \n",
       "0  # 大学奖学金申请条件与社区活动\\n\\n该社区围绕大学奖学金申请条件展开，涵盖了多项评价标准，包括学习成绩、竞赛奖励、社会工作、社会实践和道德风尚等方面。各实体之间关系紧密，尤其在国家奖学金申请条件中，多种成就可以作为申请的补充条件。\\n\\n## 学习成绩与综合考评的重要性\\n\\n学习成绩排名与综合考评成绩排名均位于前10%是申请国家奖学金的重要条件之一。这表明学术成绩仍然是评估学生是否适合获得国家奖学金的关键因素。然而，除了学术成绩外，其他方面的表现也可以作为补充条件，增加了奖学金申请的灵活性。[records: Entities (251), Relationships (295)]\\n\\n## 竞赛奖励在奖学金申请中的作用\\n\\n获得省（市）、部级及以上竞赛奖励是申请国家奖学金的基本条件之一。这意味着竞赛奖励不仅反映了学生的学术能力和实践技能，还在奖学金申请过程中扮演了重要角色。例如，体育竞赛和艺术展演中的显著成绩也可以作为申请国家奖学金的补充条件，进一步强调了多元化评价的重要性。[records: Entities (199), Relationships (218, 224, 299)]\\n\\n## 社会工作的多重影响\\n\\n社会工作B等奖及以上和社会工作方面的显著成绩是申请国家奖学金的基本条件之一。这表明学校非常重视学生在社会服务和志愿服务中的表现，认为这些经历对于学生的全面发展至关重要。此外，社会工作还可以提升学生的领导力和团队合作能力，这对他们的未来职业发展具有积极影响。[records: Entities (250, 256), Relationships (294, 302)]\\n\\n## 社会实践的意义\\n\\n在社会实践方面有显著成绩的学生，即使学习成绩排名未达前10%，也可申请国家奖学金。这表明学校鼓励学生积极参与社会实践活动，如志愿服务和社会调研。这些活动不仅有助于学生了解社会现实，还能培养他们的社会责任感和创新能力。[records: Entities (255), Relationships (301)]\\n\\n## 道德风尚的特别考量\\n\\n在道德风尚方面有特别优秀表现的学生，即使学习成绩排名未达前10%，也可申请国家奖学金。这一规定旨在激励学生在品德修养方面不断进步，体现了学校对全面发展的重视。道德风尚的评价标准可能包括诚实守信、助人为乐、勇于担当等方面。[records: Relationships (296)]\\n\\n## 体育竞赛与国家荣誉的关系\\n\\n在体育竞赛中为国家争得荣誉，如非体育专业学生在省（市）级以上体育比赛中获得个人项目前三名，是申请国家奖学金的加分条件之一。这表明学校高度重视学生在体育领域的成就，并鼓励他们在国际和国内比赛中为国家争光。[records: Entities (212, 262), Relationships (222, 223)]\\n\\n## 艺术展演的多重价值\\n\\n艺术展演是指学生在艺术表演和展览中的表现，尤其是在全国性和地方性的艺术展演中所取得的成绩。这一成绩不仅是学生个人能力的体现，也是学校艺术教育水平的重要标志。此外，艺术展演中的显著成绩还是申请上海市奖学金的一个额外条件，这意味着在这些活动中表现出色的学生将有机会获得更多的认可和支持。[records: Entities (213), Relationships (224)]\\n\\n## 学科竞赛的重要性\\n\\n在学科竞赛中有显著成绩的学生，即使学习成绩排名未达前10%，也可申请国家奖学金。这表明学科竞赛不仅是学术水平的体现，也是评价学生综合素质的重要途径。通过学科竞赛，学生可以展示他们在特定学科领域的深度理解和创新能力。[records: Relationships (299)]\\n\\n## 多元化评价体系\\n\\n综上所述，大学奖学金申请条件涵盖了学习成绩、竞赛奖励、社会工作、社会实践和道德风尚等多个方面，形成了一个多元化的评价体系。这种体系不仅能够全面评估学生的综合素质，还能激励学生在各个方面努力发展，促进其全面发展。[records: NONE]  "
      ]
     },
     "execution_count": 8,
     "metadata": {},
     "output_type": "execute_result"
    }
   ],
   "source": [
    "db_query(\n",
    "    \"\"\"\n",
    "  MATCH (n:__Community__) \n",
    "  RETURN n.title AS title, n.summary AS summary, n.full_content AS full_content LIMIT 1\n",
    "\"\"\"\n",
    ")"
   ]
  },
  {
   "cell_type": "code",
   "execution_count": 9,
   "id": "45dd15788fd6b4c3",
   "metadata": {
    "ExecuteTime": {
     "end_time": "2024-12-03T06:10:20.160109Z",
     "start_time": "2024-12-03T06:10:19.446236Z"
    }
   },
   "outputs": [
    {
     "data": {
      "image/png": "[encoded data removed]",
      "text/plain": [
       "<Figure size 1000x600 with 1 Axes>"
      ]
     },
     "metadata": {},
     "output_type": "display_data"
    }
   ],
   "source": [
    "entity_df = db_query(\n",
    "    \"\"\"\n",
    "MATCH (d:__Chunk__)\n",
    "RETURN count {(d)-[:HAS_ENTITY]->()} AS entity_count\n",
    "\"\"\"\n",
    ")\n",
    "# Plot distribution\n",
    "plt.figure(figsize=(10, 6))\n",
    "sns.histplot(entity_df[\"entity_count\"], kde=True, bins=15, color=\"skyblue\")\n",
    "plt.axvline(\n",
    "    entity_df[\"entity_count\"].mean(), color=\"red\", linestyle=\"dashed\", linewidth=1\n",
    ")\n",
    "plt.axvline(\n",
    "    entity_df[\"entity_count\"].median(), color=\"green\", linestyle=\"dashed\", linewidth=1\n",
    ")\n",
    "plt.xlabel(\"Entity Count\", fontsize=12)\n",
    "plt.ylabel(\"Frequency\", fontsize=12)\n",
    "plt.title(\"Distribution of Entity Count\", fontsize=15)\n",
    "plt.legend(\n",
    "    {\n",
    "        \"Mean\": entity_df[\"entity_count\"].mean(),\n",
    "        \"Median\": entity_df[\"entity_count\"].median(),\n",
    "    }\n",
    ")\n",
    "plt.show()"
   ]
  },
  {
   "cell_type": "code",
   "execution_count": 10,
   "id": "30e159f347eb0e64",
   "metadata": {
    "ExecuteTime": {
     "end_time": "2024-12-03T06:10:22.199378Z",
     "start_time": "2024-12-03T06:10:21.189991Z"
    }
   },
   "outputs": [
    {
     "data": {
      "image/png": "[encoded data removed]",
      "text/plain": [
       "<Figure size 1200x600 with 1 Axes>"
      ]
     },
     "metadata": {},
     "output_type": "display_data"
    }
   ],
   "source": [
    "degree_dist_df = db_query(\n",
    "    \"\"\"\n",
    "MATCH (e:__Entity__)\n",
    "RETURN count {(e)-[:RELATED]-()} AS node_degree\n",
    "\"\"\"\n",
    ")\n",
    "# Calculate mean and median\n",
    "mean_degree = np.mean(degree_dist_df[\"node_degree\"])\n",
    "percentiles = np.percentile(degree_dist_df[\"node_degree\"], [25, 50, 75, 90])\n",
    "# Create a histogram with a logarithmic scale\n",
    "plt.figure(figsize=(12, 6))\n",
    "sns.histplot(degree_dist_df[\"node_degree\"], bins=50, kde=False, color=\"blue\")\n",
    "# Use a logarithmic scale for the x-axis\n",
    "plt.yscale(\"log\")\n",
    "# Adding labels and title\n",
    "plt.xlabel(\"Node Degree\")\n",
    "plt.ylabel(\"Count (log scale)\")\n",
    "plt.title(\"Node Degree Distribution\")\n",
    "# Add mean, median, and percentile lines\n",
    "plt.axvline(\n",
    "    mean_degree,\n",
    "    color=\"red\",\n",
    "    linestyle=\"dashed\",\n",
    "    linewidth=1,\n",
    "    label=f\"Mean: {mean_degree:.2f}\",\n",
    ")\n",
    "plt.axvline(\n",
    "    percentiles[0],\n",
    "    color=\"purple\",\n",
    "    linestyle=\"dashed\",\n",
    "    linewidth=1,\n",
    "    label=f\"25th Percentile: {percentiles[0]:.2f}\",\n",
    ")\n",
    "plt.axvline(\n",
    "    percentiles[1],\n",
    "    color=\"orange\",\n",
    "    linestyle=\"dashed\",\n",
    "    linewidth=1,\n",
    "    label=f\"50th Percentile: {percentiles[1]:.2f}\",\n",
    ")\n",
    "plt.axvline(\n",
    "    percentiles[2],\n",
    "    color=\"yellow\",\n",
    "    linestyle=\"dashed\",\n",
    "    linewidth=1,\n",
    "    label=f\"75th Percentile: {percentiles[2]:.2f}\",\n",
    ")\n",
    "plt.axvline(\n",
    "    percentiles[3],\n",
    "    color=\"brown\",\n",
    "    linestyle=\"dashed\",\n",
    "    linewidth=1,\n",
    "    label=f\"90th Percentile: {percentiles[3]:.2f}\",\n",
    ")\n",
    "# Add legend\n",
    "plt.legend()\n",
    "# Show the plot\n",
    "plt.show()"
   ]
  },
  {
   "cell_type": "code",
   "execution_count": 11,
   "id": "bfb0a7b55c208a0e",
   "metadata": {
    "ExecuteTime": {
     "end_time": "2024-12-03T06:10:23.211046Z",
     "start_time": "2024-12-03T06:10:23.143065Z"
    }
   },
   "outputs": [
    {
     "data": {
      "text/html": [
       "<div>\n",
       "<style scoped>\n",
       "    .dataframe tbody tr th:only-of-type {\n",
       "        vertical-align: middle;\n",
       "    }\n",
       "\n",
       "    .dataframe tbody tr th {\n",
       "        vertical-align: top;\n",
       "    }\n",
       "\n",
       "    .dataframe thead th {\n",
       "        text-align: right;\n",
       "    }\n",
       "</style>\n",
       "<table border=\"1\" class=\"dataframe\">\n",
       "  <thead>\n",
       "    <tr style=\"text-align: right;\">\n",
       "      <th></th>\n",
       "      <th>name</th>\n",
       "      <th>degree</th>\n",
       "    </tr>\n",
       "  </thead>\n",
       "  <tbody>\n",
       "    <tr>\n",
       "      <th>0</th>\n",
       "      <td>国家奖学金</td>\n",
       "      <td>34</td>\n",
       "    </tr>\n",
       "    <tr>\n",
       "      <th>1</th>\n",
       "      <td>上海市奖学金</td>\n",
       "      <td>27</td>\n",
       "    </tr>\n",
       "    <tr>\n",
       "      <th>2</th>\n",
       "      <td>社会工作奖</td>\n",
       "      <td>24</td>\n",
       "    </tr>\n",
       "    <tr>\n",
       "      <th>3</th>\n",
       "      <td>全日制本科学生</td>\n",
       "      <td>23</td>\n",
       "    </tr>\n",
       "    <tr>\n",
       "      <th>4</th>\n",
       "      <td>学生</td>\n",
       "      <td>21</td>\n",
       "    </tr>\n",
       "  </tbody>\n",
       "</table>\n",
       "</div>"
      ],
      "text/plain": [
       "      name  degree\n",
       "0    国家奖学金      34\n",
       "1   上海市奖学金      27\n",
       "2    社会工作奖      24\n",
       "3  全日制本科学生      23\n",
       "4       学生      21"
      ]
     },
     "execution_count": 11,
     "metadata": {},
     "output_type": "execute_result"
    }
   ],
   "source": [
    "db_query(\n",
    "    \"\"\"\n",
    "  MATCH (n:__Entity__) \n",
    "  RETURN n.name AS name, count{(n)-[:RELATED]-()} AS degree\n",
    "  ORDER BY degree DESC LIMIT 5\"\"\"\n",
    ")"
   ]
  },
  {
   "cell_type": "code",
   "execution_count": 12,
   "id": "59fabd47517c0a58",
   "metadata": {
    "ExecuteTime": {
     "end_time": "2024-12-03T06:10:24.440691Z",
     "start_time": "2024-12-03T06:10:24.068980Z"
    }
   },
   "outputs": [
    {
     "data": {
      "image/png": "[encoded data removed]",
      "text/plain": [
       "<Figure size 1000x600 with 1 Axes>"
      ]
     },
     "metadata": {},
     "output_type": "display_data"
    }
   ],
   "source": [
    "community_data = db_query(\n",
    "    \"\"\"\n",
    "  MATCH (n:__Community__)\n",
    "  RETURN n.level AS level, count{(n)-[:IN_COMMUNITY]-()} AS members\n",
    "\"\"\"\n",
    ")\n",
    "\n",
    "stats = (\n",
    "    community_data.groupby(\"level\")\n",
    "    .agg(\n",
    "        min_members=(\"members\", \"min\"),\n",
    "        max_members=(\"members\", \"max\"),\n",
    "        median_members=(\"members\", \"median\"),\n",
    "        avg_members=(\"members\", \"mean\"),\n",
    "        num_communities=(\"members\", \"count\"),\n",
    "        total_members=(\"members\", \"sum\"),\n",
    "    )\n",
    "    .reset_index()\n",
    ")\n",
    "\n",
    "# Create box plot\n",
    "plt.figure(figsize=(10, 6))\n",
    "sns.boxplot(x=\"level\", y=\"members\", data=community_data, palette=\"viridis\")\n",
    "plt.xlabel(\"Level\")\n",
    "plt.ylabel(\"Members\")\n",
    "\n",
    "# Add statistical annotations\n",
    "for i in range(stats.shape[0]):\n",
    "    level = stats[\"level\"][i]\n",
    "    max_val = stats[\"max_members\"][i]\n",
    "    text = (\n",
    "        f\"num: {stats['num_communities'][i]}\\n\"\n",
    "        f\"all_members: {stats['total_members'][i]}\\n\"\n",
    "        f\"min: {stats['min_members'][i]}\\n\"\n",
    "        f\"max: {stats['max_members'][i]}\\n\"\n",
    "        f\"med: {stats['median_members'][i]}\\n\"\n",
    "        f\"avg: {stats['avg_members'][i]:.2f}\"\n",
    "    )\n",
    "    plt.text(level, 85, text, horizontalalignment=\"center\", fontsize=9)\n",
    "\n",
    "plt.show()"
   ]
  },
  {
   "cell_type": "markdown",
   "id": "619546fcf540b8e0",
   "metadata": {},
   "source": [
    "以上就是大致预览一下我们构建的graph，现在需要基于graph进行rag\n",
    "\n",
    "## Local search\n",
    "\n",
    "![local](./img/local.png)"
   ]
  },
  {
   "cell_type": "code",
   "execution_count": 13,
   "id": "84f9def438ac3b50",
   "metadata": {
    "ExecuteTime": {
     "end_time": "2024-12-03T06:10:26.430944Z",
     "start_time": "2024-12-03T06:10:26.396982Z"
    }
   },
   "outputs": [
    {
     "data": {
      "text/html": [
       "<div>\n",
       "<style scoped>\n",
       "    .dataframe tbody tr th:only-of-type {\n",
       "        vertical-align: middle;\n",
       "    }\n",
       "\n",
       "    .dataframe tbody tr th {\n",
       "        vertical-align: top;\n",
       "    }\n",
       "\n",
       "    .dataframe thead th {\n",
       "        text-align: right;\n",
       "    }\n",
       "</style>\n",
       "<table border=\"1\" class=\"dataframe\">\n",
       "  <thead>\n",
       "    <tr style=\"text-align: right;\">\n",
       "      <th></th>\n",
       "    </tr>\n",
       "  </thead>\n",
       "  <tbody>\n",
       "  </tbody>\n",
       "</table>\n",
       "</div>"
      ],
      "text/plain": [
       "Empty DataFrame\n",
       "Columns: []\n",
       "Index: []"
      ]
     },
     "execution_count": 13,
     "metadata": {},
     "output_type": "execute_result"
    }
   ],
   "source": [
    "# 配置向量索引\n",
    "index_name = \"entity\"\n",
    "\n",
    "db_query(\n",
    "    \"\"\"\n",
    "CREATE VECTOR INDEX \"\"\"\n",
    "    + index_name\n",
    "    + \"\"\" IF NOT EXISTS FOR (e:__Entity__) ON e.description_embedding\n",
    "OPTIONS {indexConfig: {\n",
    " `vector.dimensions`: 1536,\n",
    " `vector.similarity_function`: 'cosine'\n",
    "}}\n",
    "\"\"\"\n",
    ")"
   ]
  },
  {
   "cell_type": "code",
   "execution_count": 14,
   "id": "b21bbc3e726cede9",
   "metadata": {
    "ExecuteTime": {
     "end_time": "2024-12-03T06:10:27.614872Z",
     "start_time": "2024-12-03T06:10:27.575677Z"
    }
   },
   "outputs": [
    {
     "data": {
      "text/html": [
       "<div>\n",
       "<style scoped>\n",
       "    .dataframe tbody tr th:only-of-type {\n",
       "        vertical-align: middle;\n",
       "    }\n",
       "\n",
       "    .dataframe tbody tr th {\n",
       "        vertical-align: top;\n",
       "    }\n",
       "\n",
       "    .dataframe thead th {\n",
       "        text-align: right;\n",
       "    }\n",
       "</style>\n",
       "<table border=\"1\" class=\"dataframe\">\n",
       "  <thead>\n",
       "    <tr style=\"text-align: right;\">\n",
       "      <th></th>\n",
       "    </tr>\n",
       "  </thead>\n",
       "  <tbody>\n",
       "  </tbody>\n",
       "</table>\n",
       "</div>"
      ],
      "text/plain": [
       "Empty DataFrame\n",
       "Columns: []\n",
       "Index: []"
      ]
     },
     "execution_count": 14,
     "metadata": {},
     "output_type": "execute_result"
    }
   ],
   "source": [
    "# 计算并存储社区权重（社区中实体出现的不同文本块的数量）\n",
    "db_query(\n",
    "    \"\"\"\n",
    "MATCH (n:`__Community__`)<-[:IN_COMMUNITY]-()<-[:HAS_ENTITY]-(c)\n",
    "WITH n, count(distinct c) AS chunkCount\n",
    "SET n.weight = chunkCount\"\"\"\n",
    ")"
   ]
  },
  {
   "cell_type": "code",
   "execution_count": 15,
   "id": "54297a8dd1142265",
   "metadata": {
    "ExecuteTime": {
     "end_time": "2024-12-03T06:10:28.491411Z",
     "start_time": "2024-12-03T06:10:28.481952Z"
    }
   },
   "outputs": [],
   "source": [
    "topChunks = 3\n",
    "topCommunities = 3\n",
    "topOutsideRels = 10\n",
    "topInsideRels = 10\n",
    "topEntities = 10"
   ]
  },
  {
   "cell_type": "code",
   "execution_count": 16,
   "id": "6bc89323-fc4d-4ce5-9420-cb6781a84208",
   "metadata": {},
   "outputs": [],
   "source": [
    "lc_retrieval_query = \"\"\"\n",
    "WITH collect(node) as nodes\n",
    "// Entity - Text Unit Mapping\n",
    "WITH\n",
    "collect {\n",
    "    UNWIND nodes as n\n",
    "    MATCH (n)<-[:HAS_ENTITY]->(c:__Chunk__)\n",
    "    WITH c, count(distinct n) as freq\n",
    "    RETURN c.text AS chunkText\n",
    "    ORDER BY freq DESC\n",
    "    LIMIT $topChunks\n",
    "} AS text_mapping,\n",
    "// Entity - Report Mapping\n",
    "collect {\n",
    "    UNWIND nodes as n\n",
    "    MATCH (n)-[:IN_COMMUNITY]->(c:__Community__)\n",
    "    WITH c, c.rank as rank, c.weight AS weight\n",
    "    RETURN c.summary \n",
    "    ORDER BY rank, weight DESC\n",
    "    LIMIT $topCommunities\n",
    "} AS report_mapping,\n",
    "// Outside Relationships \n",
    "collect {\n",
    "    UNWIND nodes as n\n",
    "    MATCH (n)-[r:RELATED]-(m) \n",
    "    WHERE NOT m IN nodes\n",
    "    RETURN r.description AS descriptionText\n",
    "    ORDER BY r.rank, r.weight DESC \n",
    "    LIMIT $topOutsideRels\n",
    "} as outsideRels,\n",
    "// Inside Relationships \n",
    "collect {\n",
    "    UNWIND nodes as n\n",
    "    MATCH (n)-[r:RELATED]-(m) \n",
    "    WHERE m IN nodes\n",
    "    RETURN r.description AS descriptionText\n",
    "    ORDER BY r.rank, r.weight DESC \n",
    "    LIMIT $topInsideRels\n",
    "} as insideRels,\n",
    "// Entities description\n",
    "collect {\n",
    "    UNWIND nodes as n\n",
    "    RETURN n.description AS descriptionText\n",
    "} as entities\n",
    "RETURN {Chunks: text_mapping, Reports: report_mapping, \n",
    "       Relationships: outsideRels + insideRels, \n",
    "       Entities: entities} AS text, 1.0 AS score, {} AS metadata\n",
    "\"\"\"\n",
    "\n",
    "lc_vector = Neo4jVector.from_existing_index(\n",
    "    OpenAIEmbeddings(model=\"text-embedding-3-small\"),\n",
    "    url=NEO4J_URI,\n",
    "    username=NEO4J_USERNAME,\n",
    "    password=NEO4J_PASSWORD,\n",
    "    index_name=index_name,\n",
    "    retrieval_query=lc_retrieval_query,\n",
    ")"
   ]
  },
  {
   "cell_type": "code",
   "execution_count": 17,
   "id": "723b91b4-c98f-40c4-b3ef-bc0ec6dc51c8",
   "metadata": {},
   "outputs": [
    {
     "name": "stdout",
     "output_type": "stream",
     "text": [
      "Entities:\n",
      "Reports:\n",
      "Chunks:\n",
      "Relationships:\n",
      "\n"
     ]
    }
   ],
   "source": [
    "docs = lc_vector.similarity_search(\n",
    "    \"优秀学生的申请条件\",\n",
    "    k=topEntities,\n",
    "    params={\n",
    "        \"topChunks\": topChunks,\n",
    "        \"topCommunities\": topCommunities,\n",
    "        \"topOutsideRels\": topOutsideRels,\n",
    "        \"topInsideRels\": topInsideRels,\n",
    "    },\n",
    ")\n",
    "print(docs[0].page_content)"
   ]
  },
  {
   "cell_type": "code",
   "execution_count": 18,
   "id": "34abbd1d-9317-473e-b5fe-4b2acbef7d21",
   "metadata": {},
   "outputs": [],
   "source": [
    "!pip install --quiet llama_index llama-index-vector-stores-chroma llama-index-vector-stores-neo4jvector"
   ]
  },
  {
   "cell_type": "code",
   "execution_count": 19,
   "id": "4eb92120-ae63-4e4f-8c09-10316dfdc846",
   "metadata": {},
   "outputs": [],
   "source": [
    "from llama_index.core.schema import TextNode\n",
    "from llama_index.core.vector_stores.utils import node_to_metadata_dict\n",
    "from llama_index.vector_stores.neo4jvector import Neo4jVectorStore\n",
    "from llama_index.core import VectorStoreIndex"
   ]
  },
  {
   "cell_type": "code",
   "execution_count": 20,
   "id": "7c57ac4b-d965-48b2-951b-3f253975fe03",
   "metadata": {},
   "outputs": [
    {
     "data": {
      "text/html": [
       "<div>\n",
       "<style scoped>\n",
       "    .dataframe tbody tr th:only-of-type {\n",
       "        vertical-align: middle;\n",
       "    }\n",
       "\n",
       "    .dataframe tbody tr th {\n",
       "        vertical-align: top;\n",
       "    }\n",
       "\n",
       "    .dataframe thead th {\n",
       "        text-align: right;\n",
       "    }\n",
       "</style>\n",
       "<table border=\"1\" class=\"dataframe\">\n",
       "  <thead>\n",
       "    <tr style=\"text-align: right;\">\n",
       "      <th></th>\n",
       "    </tr>\n",
       "  </thead>\n",
       "  <tbody>\n",
       "  </tbody>\n",
       "</table>\n",
       "</div>"
      ],
      "text/plain": [
       "Empty DataFrame\n",
       "Columns: []\n",
       "Index: []"
      ]
     },
     "execution_count": 20,
     "metadata": {},
     "output_type": "execute_result"
    }
   ],
   "source": [
    "# 需要为节点添加元数据(meta data)，这样矢量索引才能正常工作。如果没有在相关节点中添加默认元数据，矢量索引将返回错误。\n",
    "content = node_to_metadata_dict(TextNode(), remove_text=True, flat_metadata=False)\n",
    "\n",
    "db_query(\n",
    "    \"\"\"\n",
    "  MATCH (e:__Entity__)\n",
    "  SET e += $content\"\"\",\n",
    "    {\"content\": content},\n",
    ")\n"
   ]
  },
  {
   "cell_type": "code",
   "execution_count": 21,
   "id": "f0e19478-8dd3-44ba-ac42-1f16cac7012f",
   "metadata": {},
   "outputs": [],
   "source": [
    "embed_dim = 1536\n",
    "\n",
    "# 首先设置向量搜索的 index_query\n",
    "index_query = \"\"\"\n",
    "CALL db.index.vector.queryNodes(\"entity\", $k, $vector) \n",
    "YIELD node, score\n",
    "\"\"\"\n",
    "\n",
    "# 然后设置检索的查询\n",
    "retrieval_query = f\"\"\"\n",
    "WITH collect(node) as nodes\n",
    "// Entity - Text Unit Mapping\n",
    "WITH\n",
    "nodes,\n",
    "collect {{\n",
    "    UNWIND nodes as n\n",
    "    MATCH (n)<-[:HAS_ENTITY]->(c:__Chunk__)\n",
    "    WITH c, count(distinct n) as freq\n",
    "    RETURN c.text AS chunkText\n",
    "    ORDER BY freq DESC\n",
    "    LIMIT {topChunks}\n",
    "}} AS text_mapping,\n",
    "\n",
    "// Entity - Report Mapping\n",
    "collect {{\n",
    "    UNWIND nodes as n\n",
    "    MATCH (n)-[:IN_COMMUNITY]->(c:__Community__)\n",
    "    WITH c, c.rank as rank, c.weight AS weight\n",
    "    RETURN c.summary \n",
    "    ORDER BY rank, weight DESC\n",
    "    LIMIT {topCommunities}\n",
    "}} AS report_mapping,\n",
    "\n",
    "// Outside Relationships \n",
    "collect {{\n",
    "    UNWIND nodes as n\n",
    "    MATCH (n)-[r:RELATED]-(m) \n",
    "    WHERE NOT m IN nodes\n",
    "    RETURN r.description AS descriptionText\n",
    "    ORDER BY r.rank, r.weight DESC \n",
    "    LIMIT {topOutsideRels}\n",
    "}} as outsideRels,\n",
    "\n",
    "// Inside Relationships \n",
    "collect {{\n",
    "    UNWIND nodes as n\n",
    "    MATCH (n)-[r:RELATED]-(m) \n",
    "    WHERE m IN nodes\n",
    "    RETURN r.description AS descriptionText\n",
    "    ORDER BY r.rank, r.weight DESC \n",
    "    LIMIT {topInsideRels}\n",
    "}} as insideRels,\n",
    "\n",
    "// Entities description\n",
    "collect {{\n",
    "    UNWIND nodes as n\n",
    "    RETURN n.description AS descriptionText\n",
    "}} as entities\n",
    "\n",
    "WITH nodes[0] as first_node,\n",
    "     apoc.text.join(text_mapping, '|') as chunks_text,\n",
    "     apoc.text.join(report_mapping, '|') as reports_text,\n",
    "     apoc.text.join(outsideRels + insideRels, '|') as rels_text,\n",
    "     apoc.text.join(entities, '|') as entities_text\n",
    "\n",
    "WITH first_node,\n",
    "     \"Chunks:\" + chunks_text + \n",
    "     \"\\nReports: \" + reports_text +  \n",
    "     \"\\nRelationships: \" + rels_text + \n",
    "     \"\\nEntities: \" + entities_text as full_text\n",
    "\n",
    "// 构建最终结果，将 node_content 序列化为 JSON 字符串\n",
    "RETURN \n",
    "    full_text AS text,\n",
    "    1.0 AS score,\n",
    "    first_node.id AS id,\n",
    "    {{\n",
    "        _node_type: \"text\",\n",
    "        _node_content: apoc.convert.toJson({{\n",
    "            id: toString(first_node.id),\n",
    "            text: full_text,\n",
    "            metadata: {{}}\n",
    "        }})\n",
    "    }} AS metadata\n",
    "\"\"\""
   ]
  },
  {
   "cell_type": "markdown",
   "id": "153affd3-9653-4892-a8d8-07a0646e225e",
   "metadata": {},
   "source": [
    "该 `Cypher`查询对一组节点执行多种分析操作，以提取和整理相关文本数据：\n",
    "\n",
    "1.实体-文本单元映射：对于每个节点，查询会识别链接的文本块（`__Chunk__`），根据与每个文本块相关的不同节点的数量对它们进行聚合，并根据频率对它们进行排序。最重要的文本块以 `text_mapping` 的形式返回。\n",
    "\n",
    "2.实体-报告映射：对于每个节点，查询会找到相关的社区（`__Community__`），并根据排名和权重返回排名靠前的社区摘要。\n",
    "\n",
    "3.外部关系：本节提取相关实体（`m`）不属于初始节点集的关系（`RELATED`）描述。这些关系会进行排序，并仅限于最重要的外部关系。\n",
    "\n",
    "4.内部关系：与外部关系类似，但这次只考虑两个实体都在初始节点集内的关系。\n",
    "\n",
    "5.实体描述：只需收集初始集合中每个节点的描述。\n",
    "\n",
    "最后，查询会将收集到的数据合并成一个结构化的结果，其中包括数据块、报告、内部和外部关系以及实体描述，还有一个默认分数和一个空元数据对象。"
   ]
  },
  {
   "cell_type": "code",
   "execution_count": 36,
   "id": "c9f24240-d1d0-4a51-9e21-2e1c6b8046ad",
   "metadata": {},
   "outputs": [
    {
     "name": "stdout",
     "output_type": "stream",
     "text": [
      "开始为 30 个节点添加 embedding\n",
      "学生可能因以下行为被退学：违反宪法、法律、法规，触犯国家法律构成刑事犯罪，或在情节严重、性质恶劣的情况下受到治安管理处罚。此外，代写论文、买卖论文等行为也会导致退学。\n"
     ]
    }
   ],
   "source": [
    "from llama_index.embeddings.openai import OpenAIEmbedding\n",
    "from llama_index.llms.openai import OpenAI\n",
    "from llama_index.vector_stores.neo4jvector import Neo4jVectorStore\n",
    "from llama_index.core import VectorStoreIndex\n",
    "\n",
    "embed_model = OpenAIEmbedding(model=\"text-embedding-3-small\", api_base=\"http://localhost:13000/v1\")\n",
    "llm = OpenAI(api_base=\"http://localhost:13000/v1\", model=\"gpt-4o\")\n",
    "\n",
    "def add_embeddings_to_nodes(session, embed_model):\n",
    "    result = session.run(\"\"\"\n",
    "        MATCH (n:__Entity__)\n",
    "        WHERE n.description_embedding IS NULL\n",
    "        RETURN n.id as id, n.description as text\n",
    "    \"\"\")\n",
    "    records = list(result)\n",
    "    \n",
    "    if records:\n",
    "        print(f\"开始为 {len(records)} 个节点添加 embedding\")\n",
    "        for record in records:\n",
    "            text = record[\"text\"]\n",
    "            if not text:\n",
    "                continue\n",
    "            try:\n",
    "                embedding = embed_model.get_text_embedding(str(text).strip())  # 确保文本格式正确\n",
    "                session.run(\"\"\"\n",
    "                    MATCH (n:__Entity__ {id: $id})\n",
    "                    SET n.description_embedding = $embedding\n",
    "                \"\"\", {\"id\": record[\"id\"], \"embedding\": embedding})\n",
    "            except Exception as e:\n",
    "                print(f\"节点 {record['id']} 处理失败\")\n",
    "\n",
    "# 初始化 Neo4j vector store\n",
    "neo4j_vector = Neo4jVectorStore(\n",
    "   NEO4J_USERNAME,\n",
    "   NEO4J_PASSWORD,\n",
    "   NEO4J_URI,\n",
    "   embed_dim,\n",
    "   index_name=\"entity\",\n",
    "   retrieval_query=retrieval_query,\n",
    "   index_query=index_query,\n",
    ")\n",
    "\n",
    "# 开始embedding\n",
    "with neo4j_vector._driver.session() as session:\n",
    "   updated_count = add_embeddings_to_nodes(session, embed_model)\n",
    "\n",
    "# 创建查询引擎并执行查询\n",
    "loaded_index = VectorStoreIndex.from_vector_store(neo4j_vector).as_query_engine(\n",
    "   similarity_top_k=topEntities,\n",
    "   embed_model=embed_model,\n",
    "   llm=llm\n",
    ")\n",
    "\n",
    "response = loaded_index.query(\"学生干了什么事会被退学？\")\n",
    "print(response.response)"
   ]
  },
  {
   "cell_type": "markdown",
   "id": "1757ebde-729f-455d-bf3c-bfe3d37ee1ab",
   "metadata": {},
   "source": [
    "# Global Search"
   ]
  },
  {
   "cell_type": "code",
   "execution_count": 28,
   "id": "83eccd7e-9815-4ec3-991f-b79c010d4f23",
   "metadata": {},
   "outputs": [],
   "source": [
    "llm = ChatOpenAI(model=\"qwen-plus\", streaming=True)"
   ]
  },
  {
   "cell_type": "code",
   "execution_count": 29,
   "id": "3e20ec25-b1de-45a6-beac-6c371ce796fd",
   "metadata": {},
   "outputs": [],
   "source": [
    "MAP_SYSTEM_PROMPT = \"\"\"\n",
    "---Role---\n",
    "\n",
    "You are a helpful assistant responding to questions about data in the tables provided.\n",
    "\n",
    "\n",
    "---Goal---\n",
    "\n",
    "Generate a response consisting of a list of key points that responds to the user's question, summarizing all relevant information in the input data tables.\n",
    "\n",
    "You should use the data provided in the data tables below as the primary context for generating the response.\n",
    "If you don't know the answer or if the input data tables do not contain sufficient information to provide an answer, just say so. Do not make anything up.\n",
    "\n",
    "Each key point in the response should have the following element:\n",
    "- Description: A comprehensive description of the point.\n",
    "- Importance Score: An integer score between 0-100 that indicates how important the point is in answering the user's question. An 'I don't know' type of response should have a score of 0.\n",
    "\n",
    "The response should be JSON formatted as follows:\n",
    "{{\n",
    "    \"points\": [\n",
    "        {{\"description\": \"Description of point 1 [Data: Reports (report ids)]\", \"score\": score_value}},\n",
    "        {{\"description\": \"Description of point 2 [Data: Reports (report ids)]\", \"score\": score_value}}\n",
    "    ]\n",
    "}}\n",
    "\n",
    "The response shall preserve the original meaning and use of modal verbs such as \"shall\", \"may\" or \"will\".\n",
    "\n",
    "Points supported by data should list the relevant reports as references as follows:\n",
    "\"This is an example sentence supported by data references [Data: Reports (report ids)]\"\n",
    "\n",
    "**Do not list more than 5 record ids in a single reference**. Instead, list the top 5 most relevant record ids and add \"+more\" to indicate that there are more.\n",
    "\n",
    "For example:\n",
    "\"Person X is the owner of Company Y and subject to many allegations of wrongdoing [Data: Reports (2, 7, 64, 46, 34, +more)]. He is also CEO of company X [Data: Reports (1, 3)]\"\n",
    "\n",
    "where 1, 2, 3, 7, 34, 46, and 64 represent the id (not the index) of the relevant data report in the provided tables.\n",
    "\n",
    "Do not include information where the supporting evidence for it is not provided.\n",
    "\n",
    "\n",
    "---Data tables---\n",
    "\n",
    "{context_data}\n",
    "\n",
    "---Goal---\n",
    "\n",
    "Generate a response consisting of a list of key points that responds to the user's question, summarizing all relevant information in the input data tables.\n",
    "\n",
    "You should use the data provided in the data tables below as the primary context for generating the response.\n",
    "If you don't know the answer or if the input data tables do not contain sufficient information to provide an answer, just say so. Do not make anything up.\n",
    "\n",
    "Each key point in the response should have the following element:\n",
    "- Description: A comprehensive description of the point.\n",
    "- Importance Score: An integer score between 0-100 that indicates how important the point is in answering the user's question. An 'I don't know' type of response should have a score of 0.\n",
    "\n",
    "The response shall preserve the original meaning and use of modal verbs such as \"shall\", \"may\" or \"will\".\n",
    "\n",
    "Points supported by data should list the relevant reports as references as follows:\n",
    "\"This is an example sentence supported by data references [Data: Reports (report ids)]\"\n",
    "\n",
    "**Do not list more than 5 record ids in a single reference**. Instead, list the top 5 most relevant record ids and add \"+more\" to indicate that there are more.\n",
    "\n",
    "For example:\n",
    "\"Person X is the owner of Company Y and subject to many allegations of wrongdoing [Data: Reports (2, 7, 64, 46, 34, +more)]. He is also CEO of company X [Data: Reports (1, 3)]\"\n",
    "\n",
    "where 1, 2, 3, 7, 34, 46, and 64 represent the id (not the index) of the relevant data report in the provided tables.\n",
    "\n",
    "Do not include information where the supporting evidence for it is not provided.\n",
    "\n",
    "The response should be JSON formatted as follows:\n",
    "{{\n",
    "    \"points\": [\n",
    "        {{\"description\": \"Description of point 1 [Data: Reports (report ids)]\", \"score\": score_value}},\n",
    "        {{\"description\": \"Description of point 2 [Data: Reports (report ids)]\", \"score\": score_value}}\n",
    "    ]\n",
    "}}\n",
    "\"\"\"\n",
    "\n",
    "map_prompt = ChatPromptTemplate.from_messages(\n",
    "    [\n",
    "        (\n",
    "            \"system\",\n",
    "            MAP_SYSTEM_PROMPT,\n",
    "        ),\n",
    "        (\n",
    "            \"human\",\n",
    "            \"{question}\",\n",
    "        ),\n",
    "    ]\n",
    ")\n",
    "\n",
    "map_chain = map_prompt | llm | StrOutputParser()"
   ]
  },
  {
   "cell_type": "code",
   "execution_count": 30,
   "id": "dfb9eedd-2d78-4999-ae6e-33f6bc35cf7e",
   "metadata": {},
   "outputs": [],
   "source": [
    "REDUCE_SYSTEM_PROMPT = \"\"\"\n",
    "---Role---\n",
    "\n",
    "You are a helpful assistant responding to questions about a dataset by synthesizing perspectives from multiple analysts.\n",
    "\n",
    "\n",
    "---Goal---\n",
    "\n",
    "Generate a response of the target length and format that responds to the user's question, summarize all the reports from multiple analysts who focused on different parts of the dataset.\n",
    "\n",
    "Note that the analysts' reports provided below are ranked in the **descending order of importance**.\n",
    "\n",
    "If you don't know the answer or if the provided reports do not contain sufficient information to provide an answer, just say so. Do not make anything up.\n",
    "\n",
    "The final response should remove all irrelevant information from the analysts' reports and merge the cleaned information into a comprehensive answer that provides explanations of all the key points and implications appropriate for the response length and format.\n",
    "\n",
    "Add sections and commentary to the response as appropriate for the length and format. Style the response in markdown.\n",
    "\n",
    "The response shall preserve the original meaning and use of modal verbs such as \"shall\", \"may\" or \"will\".\n",
    "\n",
    "The response should also preserve all the data references previously included in the analysts' reports, but do not mention the roles of multiple analysts in the analysis process.\n",
    "\n",
    "**Do not list more than 5 record ids in a single reference**. Instead, list the top 5 most relevant record ids and add \"+more\" to indicate that there are more.\n",
    "\n",
    "For example:\n",
    "\n",
    "\"Person X is the owner of Company Y and subject to many allegations of wrongdoing [Data: Reports (2, 7, 34, 46, 64, +more)]. He is also CEO of company X [Data: Reports (1, 3)]\"\n",
    "\n",
    "where 1, 2, 3, 7, 34, 46, and 64 represent the id (not the index) of the relevant data record.\n",
    "\n",
    "Do not include information where the supporting evidence for it is not provided.\n",
    "\n",
    "\n",
    "---Target response length and format---\n",
    "\n",
    "{response_type}\n",
    "\n",
    "\n",
    "---Analyst Reports---\n",
    "\n",
    "{report_data}\n",
    "\n",
    "\n",
    "---Goal---\n",
    "\n",
    "Generate a response of the target length and format that responds to the user's question, summarize all the reports from multiple analysts who focused on different parts of the dataset.\n",
    "\n",
    "Note that the analysts' reports provided below are ranked in the **descending order of importance**.\n",
    "\n",
    "If you don't know the answer or if the provided reports do not contain sufficient information to provide an answer, just say so. Do not make anything up.\n",
    "\n",
    "The final response should remove all irrelevant information from the analysts' reports and merge the cleaned information into a comprehensive answer that provides explanations of all the key points and implications appropriate for the response length and format.\n",
    "\n",
    "The response shall preserve the original meaning and use of modal verbs such as \"shall\", \"may\" or \"will\".\n",
    "\n",
    "The response should also preserve all the data references previously included in the analysts' reports, but do not mention the roles of multiple analysts in the analysis process.\n",
    "\n",
    "**Do not list more than 5 record ids in a single reference**. Instead, list the top 5 most relevant record ids and add \"+more\" to indicate that there are more.\n",
    "\n",
    "For example:\n",
    "\n",
    "\"Person X is the owner of Company Y and subject to many allegations of wrongdoing [Data: Reports (2, 7, 34, 46, 64, +more)]. He is also CEO of company X [Data: Reports (1, 3)]\"\n",
    "\n",
    "where 1, 2, 3, 7, 34, 46, and 64 represent the id (not the index) of the relevant data record.\n",
    "\n",
    "Do not include information where the supporting evidence for it is not provided.\n",
    "\n",
    "\n",
    "---Target response length and format---\n",
    "\n",
    "{response_type}\n",
    "\n",
    "Add sections and commentary to the response as appropriate for the length and format. Style the response in markdown.\n",
    "\"\"\"\n",
    "\n",
    "reduce_prompt = ChatPromptTemplate.from_messages(\n",
    "    [\n",
    "        (\n",
    "            \"system\",\n",
    "            REDUCE_SYSTEM_PROMPT,\n",
    "        ),\n",
    "        (\n",
    "            \"human\",\n",
    "            \"{question}\",\n",
    "        ),\n",
    "    ]\n",
    ")\n",
    "reduce_chain = reduce_prompt | llm | StrOutputParser()"
   ]
  },
  {
   "cell_type": "code",
   "execution_count": 31,
   "id": "cc4e524a-4f93-4924-85eb-05f529b0b523",
   "metadata": {},
   "outputs": [],
   "source": [
    "graph = Neo4jGraph(\n",
    "    url=NEO4J_URI,\n",
    "    username=NEO4J_USERNAME,\n",
    "    password=NEO4J_PASSWORD,\n",
    "    refresh_schema=False,\n",
    ")\n",
    "\n",
    "response_type: str = \"multiple paragraphs\"\n",
    "\n",
    "\n",
    "def global_retriever(query: str, level: int, response_type: str = response_type) -> str:\n",
    "    community_data = graph.query(\n",
    "        \"\"\"\n",
    "    MATCH (c:__Community__)\n",
    "    WHERE c.level = $level\n",
    "    RETURN c.full_content AS output\n",
    "    \"\"\",\n",
    "        params={\"level\": level},\n",
    "    )\n",
    "    intermediate_results = []\n",
    "    for community in tqdm(community_data, desc=\"Processing communities\"):\n",
    "        intermediate_response = map_chain.invoke(\n",
    "            {\"question\": query, \"context_data\": community[\"output\"]}\n",
    "        )\n",
    "        intermediate_results.append(intermediate_response)\n",
    "    final_response = reduce_chain.invoke(\n",
    "        {\n",
    "            \"report_data\": intermediate_results,\n",
    "            \"question\": query,\n",
    "            \"response_type\": response_type,\n",
    "        }\n",
    "    )\n",
    "    return final_response"
   ]
  },
  {
   "cell_type": "code",
   "execution_count": 32,
   "id": "59529521-4212-470f-a27c-29ad122a2aea",
   "metadata": {},
   "outputs": [
    {
     "name": "stderr",
     "output_type": "stream",
     "text": [
      "Processing communities: 100%|███████████████████████████████████████████████████████████| 29/29 [04:14<00:00,  8.77s/it]\n"
     ]
    },
    {
     "name": "stdout",
     "output_type": "stream",
     "text": [
      "## 优秀学生的申请条件综述\n",
      "\n",
      "### 学术成绩与综合考评\n",
      "优秀学生的申请条件首先包括学术成绩和综合考评成绩。根据数据，学习成绩排名与综合考评成绩均位于前10%是申请国家奖学金的重要条件之一，这表明学术成绩是评估学生是否适合获得国家奖学金的关键因素 [Data: Reports (251, 295)]。此外，德育考核成绩要求至少达到85分以上，这是申请优秀学生的必要条件之一 [Data: Relationships (339, 344)]。\n",
      "\n",
      "### 竞赛奖励\n",
      "获得省（市）、部级及以上竞赛奖励是申请国家奖学金的基本条件之一，这表明竞赛奖励在奖学金申请过程中扮演了重要角色 [Data: Reports (199, 218, 224, 299)]。具体来说，在国际和全国性专业学科竞赛、课外学术科技竞赛、中国“互联网+”大学生创新创业大赛、全国职业院校技能大赛等竞赛中获得一等奖（或金奖）及以上奖励，是学生在学科竞赛方面取得显著成绩的表现。这不仅是申请国家奖学金的加分项，也是评估学生综合素质的重要依据 [Data: Relationships (300)]。\n",
      "\n",
      "### 社会工作与志愿服务\n",
      "社会工作B等奖及以上和社会工作方面的显著成绩是申请国家奖学金的基本条件之一，这表明学校非常重视学生在社会服务和志愿服务中的表现 [Data: Reports (250, 256, 294, 302)]。此外，具备较高的社会工作表现，如参与志愿者、社会服务、社会工作、社会实践、无偿献血等活动，可获得0～10分的加分，这也是申请优秀学生的重要条件之一 [Data: Entities (410), Relationships (432)]。\n",
      "\n",
      "### 特殊表现\n",
      "在道德风尚方面有特别优秀表现的学生，即使学习成绩排名未达前10%，也可申请国家奖学金，这表明学校重视学生的品德修养 [Data: Reports (296)]。具体表现包括见义勇为、助人为乐、奉献爱心、服务社会、自立自强等行为 [Data: Entities (259)]。此外，优秀的团队合作能力也是申请条件的一部分，鼓励学生积极参与学校、学院和班团集体活动，政治理论学习等 [Data: Entities (409), Relationships (431)]。\n",
      "\n",
      "### 艺术与体育表现\n",
      "在艺术展演中取得显著成绩的学生，即使学习成绩排名未达前10%，也可申请国家奖学金，这表明学校重视学生的艺术表现 [Data: Reports (213, 224)]。在体育竞赛中为国家争得荣誉，如非体育专业学生在省（市）级以上体育比赛中获得个人项目前三名，是申请国家奖学金的加分条件之一 [Data: Reports (212, 262, 222, 223)]。\n",
      "\n",
      "### 其他条件\n",
      "具备较高的人文修养也是优秀学生的申请条件之一，包括参加高雅艺术和创新论坛等讲座，参与校园文化建设、读书活动、发表文章等 [Data: Entities (412), Relationships (434)]。具备创新精神也是优秀学生的申请条件之一，鼓励学生参与创新课题、创新大奖赛、挑战杯等 [Data: Entities (411), Relationships (433)]。\n",
      "\n",
      "### 纪律处分\n",
      "没有受到任何行政处分是申请优秀学生的必要条件，受到行政处分的学生在德育素质考核中将被判定为不及格 [Data: Entities (413), Relationships (435)]。对于即将毕业的学生，特别是在纪律处分期间表现良好且被列入就业计划的学生，可以申请提前解除处分 [Data: Reports (167, 142)]。\n",
      "\n",
      "### 评选流程\n",
      "优秀学生的评选依据《先进个人和集体评选办法》的具体规定进行，确保评选过程的公正性和透明度 [Data: Reports (331)]。具体评选标准由学校或相关机构制定，建议查阅学校的官方文件或咨询相关部门获取详细信息 [Data: Entities (308, 321)]。\n",
      "\n",
      "## 总结\n",
      "综上所述，优秀学生的申请条件不仅包括学术成绩优异、品德良好、积极参与社会活动等，还包括在竞赛、艺术、体育等方面的表现。这些条件旨在全面评估学生的综合素质，确保奖学金能够公平、公正地分配给符合条件的学生。\n"
     ]
    }
   ],
   "source": [
    "print(global_retriever(\"优秀学生的申请条件\", 2))"
   ]
  },
  {
   "cell_type": "code",
   "execution_count": null,
   "id": "c2ed69aa-ffdd-4672-bd46-2179869b7544",
   "metadata": {},
   "outputs": [],
   "source": []
  }
 ],
 "metadata": {
  "kernelspec": {
   "display_name": "Python 3 (ipykernel)",
   "language": "python",
   "name": "python3"
  },
  "language_info": {
   "codemirror_mode": {
    "name": "ipython",
    "version": 3
   },
   "file_extension": ".py",
   "mimetype": "text/x-python",
   "name": "python",
   "nbconvert_exporter": "python",
   "pygments_lexer": "ipython3",
   "version": "3.12.1"
  }
 },
 "nbformat": 4,
 "nbformat_minor": 5
}
