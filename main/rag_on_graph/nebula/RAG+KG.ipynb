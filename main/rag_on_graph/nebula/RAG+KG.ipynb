{
 "cells": [
  {
   "cell_type": "code",
   "metadata": {
    "ExecuteTime": {
     "end_time": "2024-12-01T11:19:01.848277Z",
     "start_time": "2024-12-01T11:19:01.836494Z"
    }
   },
   "source": [
    "import nest_asyncio\n",
    "nest_asyncio.apply()"
   ],
   "outputs": [],
   "execution_count": 1
  },
  {
   "cell_type": "code",
   "metadata": {
    "ExecuteTime": {
     "end_time": "2024-12-01T11:19:01.988547Z",
     "start_time": "2024-12-01T11:19:01.966682Z"
    }
   },
   "source": [
    "import sys\n",
    "sys.executable"
   ],
   "outputs": [
    {
     "data": {
      "text/plain": [
       "'/home/ggg/miniconda3/envs/nebula/bin/python'"
      ]
     },
     "execution_count": 2,
     "metadata": {},
     "output_type": "execute_result"
    }
   ],
   "execution_count": 2
  },
  {
   "metadata": {
    "ExecuteTime": {
     "end_time": "2024-12-01T11:19:02.120494Z",
     "start_time": "2024-12-01T11:19:01.990766Z"
    }
   },
   "cell_type": "code",
   "source": "!export CUDA_VISIBLE_DEVICES=0,1   # 双卡4090并行",
   "outputs": [
    {
     "name": "stdout",
     "output_type": "stream",
     "text": [
      "/bin/bash: warning: setlocale: LC_ALL: cannot change locale (en_US.UTF-8)\r\n"
     ]
    }
   ],
   "execution_count": 3
  },
  {
   "cell_type": "code",
   "metadata": {
    "scrolled": true,
    "ExecuteTime": {
     "end_time": "2024-12-01T11:21:21.763314Z",
     "start_time": "2024-12-01T11:19:02.125291Z"
    }
   },
   "source": [
    "from llama_index.llms.vllm import Vllm   # 用vllm加速本地模型\n",
    "import numpy as np\n",
    "\n",
    "llm = Vllm(\n",
    "    model=\"/home/ggg/.cache/huggingface/hub/glm-4-9b-chat\",\n",
    "    dtype=\"float16\",\n",
    "    tensor_parallel_size=2,\n",
    "    temperature=0,\n",
    "    max_new_tokens=100,\n",
    "    vllm_kwargs={\n",
    "        \"swap_space\": 1,\n",
    "        \"gpu_memory_utilization\": 0.8,\n",
    "        \"max_model_len\": 8192,\n",
    "    },\n",
    ")"
   ],
   "outputs": [
    {
     "name": "stdout",
     "output_type": "stream",
     "text": [
      "WARNING 12-01 19:19:14 config.py:1865] Casting torch.bfloat16 to torch.float16.\n",
      "INFO 12-01 19:19:24 config.py:1020] Defaulting to use mp for distributed inference\n",
      "INFO 12-01 19:19:24 llm_engine.py:249] Initializing an LLM engine (v0.6.4.post1) with config: model='/home/ggg/.cache/huggingface/hub/glm-4-9b-chat', speculative_config=None, tokenizer='/home/ggg/.cache/huggingface/hub/glm-4-9b-chat', skip_tokenizer_init=False, tokenizer_mode=auto, revision=None, override_neuron_config=None, tokenizer_revision=None, trust_remote_code=True, dtype=torch.float16, max_seq_len=8192, download_dir=None, load_format=LoadFormat.AUTO, tensor_parallel_size=2, pipeline_parallel_size=1, disable_custom_all_reduce=False, quantization=None, enforce_eager=False, kv_cache_dtype=auto, quantization_param_path=None, device_config=cuda, decoding_config=DecodingConfig(guided_decoding_backend='outlines'), observability_config=ObservabilityConfig(otlp_traces_endpoint=None, collect_model_forward_time=False, collect_model_execute_time=False), seed=0, served_model_name=/home/ggg/.cache/huggingface/hub/glm-4-9b-chat, num_scheduler_steps=1, chunked_prefill_enabled=False multi_step_stream_outputs=True, enable_prefix_caching=False, use_async_output_proc=True, use_cached_outputs=False, chat_template_text_format=string, mm_processor_kwargs=None, pooler_config=None)\n",
      "WARNING 12-01 19:19:25 tokenizer.py:174] Using a slow tokenizer. This might cause a significant slowdown. Consider using a fast tokenizer instead.\n",
      "WARNING 12-01 19:19:26 multiproc_gpu_executor.py:56] Reducing Torch parallelism from 28 threads to 1 to avoid unnecessary CPU contention. Set OMP_NUM_THREADS in the external environment to tune this value as needed.\n",
      "INFO 12-01 19:19:26 custom_cache_manager.py:17] Setting Triton cache manager to: vllm.triton_utils.custom_cache_manager:CustomCacheManager\n",
      "WARNING 12-01 19:19:26 utils.py:720] Using 'pin_memory=False' as WSL is detected. This may slow down the performance.\n",
      "\u001B[1;36m(VllmWorkerProcess pid=4092930)\u001B[0;0m WARNING 12-01 19:19:26 utils.py:720] Using 'pin_memory=False' as WSL is detected. This may slow down the performance.\n",
      "INFO 12-01 19:19:26 selector.py:135] Using Flash Attention backend.\n",
      "\u001B[1;36m(VllmWorkerProcess pid=4092930)\u001B[0;0m INFO 12-01 19:19:26 selector.py:135] Using Flash Attention backend.\n",
      "\u001B[1;36m(VllmWorkerProcess pid=4092930)\u001B[0;0m INFO 12-01 19:19:26 multiproc_worker_utils.py:215] Worker ready; awaiting tasks\n",
      "INFO 12-01 19:19:28 utils.py:961] Found nccl from library libnccl.so.2\n",
      "INFO 12-01 19:19:28 pynccl.py:69] vLLM is using nccl==2.21.5\n",
      "\u001B[1;36m(VllmWorkerProcess pid=4092930)\u001B[0;0m INFO 12-01 19:19:28 utils.py:961] Found nccl from library libnccl.so.2\n",
      "\u001B[1;36m(VllmWorkerProcess pid=4092930)\u001B[0;0m INFO 12-01 19:19:28 pynccl.py:69] vLLM is using nccl==2.21.5\n",
      "INFO 12-01 19:19:29 custom_all_reduce_utils.py:242] reading GPU P2P access cache from /home/ggg/.cache/vllm/gpu_p2p_access_cache_for_0,1.json\n",
      "\u001B[1;36m(VllmWorkerProcess pid=4092930)\u001B[0;0m WARNING 12-01 19:19:29 custom_all_reduce.py:143] Custom allreduce is disabled because your platform lacks GPU P2P capability or P2P test failed. To silence this warning, specify disable_custom_all_reduce=True explicitly.\n",
      "INFO 12-01 19:19:29 custom_all_reduce_utils.py:242] reading GPU P2P access cache from /home/ggg/.cache/vllm/gpu_p2p_access_cache_for_0,1.json\n",
      "\u001B[1;36m(VllmWorkerProcess pid=4092930)\u001B[0;0m WARNING 12-01 19:19:29 custom_all_reduce.py:143] Custom allreduce is disabled because your platform lacks GPU P2P capability or P2P test failed. To silence this warning, specify disable_custom_all_reduce=True explicitly.\n",
      "INFO 12-01 19:19:29 shm_broadcast.py:236] vLLM message queue communication handle: Handle(connect_ip='127.0.0.1', local_reader_ranks=[1], buffer=<vllm.distributed.device_communicators.shm_broadcast.ShmRingBuffer object at 0x7f2438f32920>, local_subscribe_port=60347, remote_subscribe_port=None)\n",
      "INFO 12-01 19:19:29 model_runner.py:1072] Starting to load model /home/ggg/.cache/huggingface/hub/glm-4-9b-chat...\n",
      "\u001B[1;36m(VllmWorkerProcess pid=4092930)\u001B[0;0m INFO 12-01 19:19:29 model_runner.py:1072] Starting to load model /home/ggg/.cache/huggingface/hub/glm-4-9b-chat...\n"
     ]
    },
    {
     "data": {
      "text/plain": [
       "Loading safetensors checkpoint shards:   0% Completed | 0/10 [00:00<?, ?it/s]\n"
      ],
      "application/vnd.jupyter.widget-view+json": {
       "version_major": 2,
       "version_minor": 0,
       "model_id": "581d31e34bee41a6b3e45157cd309bd2"
      }
     },
     "metadata": {},
     "output_type": "display_data"
    },
    {
     "name": "stdout",
     "output_type": "stream",
     "text": [
      "\u001B[1;36m(VllmWorkerProcess pid=4092930)\u001B[0;0m INFO 12-01 19:19:51 model_runner.py:1077] Loading model weights took 8.8289 GB\n",
      "INFO 12-01 19:19:53 model_runner.py:1077] Loading model weights took 8.8289 GB\n",
      "\u001B[1;36m(VllmWorkerProcess pid=4092930)\u001B[0;0m INFO 12-01 19:19:57 worker.py:232] Memory profiling results: total_gpu_memory=23.99GiB initial_memory_usage=10.56GiB peak_torch_memory=9.46GiB memory_usage_post_profile=10.62GiB non_torch_memory=1.79GiB kv_cache_size=7.94GiB gpu_memory_utilization=0.80\n",
      "INFO 12-01 19:19:58 worker.py:232] Memory profiling results: total_gpu_memory=23.99GiB initial_memory_usage=10.56GiB peak_torch_memory=10.27GiB memory_usage_post_profile=10.62GiB non_torch_memory=1.79GiB kv_cache_size=7.13GiB gpu_memory_utilization=0.80\n",
      "INFO 12-01 19:19:58 distributed_gpu_executor.py:57] # GPU blocks: 23369, # CPU blocks: 3276\n",
      "INFO 12-01 19:19:58 distributed_gpu_executor.py:61] Maximum concurrency for 8192 tokens per request: 45.64x\n",
      "\u001B[1;36m(VllmWorkerProcess pid=4092930)\u001B[0;0m INFO 12-01 19:19:59 model_runner.py:1400] Capturing cudagraphs for decoding. This may lead to unexpected consequences if the model is not static. To run the model in eager mode, set 'enforce_eager=True' or use '--enforce-eager' in the CLI.\n",
      "\u001B[1;36m(VllmWorkerProcess pid=4092930)\u001B[0;0m INFO 12-01 19:19:59 model_runner.py:1404] If out-of-memory error occurs during cudagraph capture, consider decreasing `gpu_memory_utilization` or switching to eager mode. You can also reduce the `max_num_seqs` as needed to decrease memory usage.\n",
      "INFO 12-01 19:19:59 model_runner.py:1400] Capturing cudagraphs for decoding. This may lead to unexpected consequences if the model is not static. To run the model in eager mode, set 'enforce_eager=True' or use '--enforce-eager' in the CLI.\n",
      "INFO 12-01 19:19:59 model_runner.py:1404] If out-of-memory error occurs during cudagraph capture, consider decreasing `gpu_memory_utilization` or switching to eager mode. You can also reduce the `max_num_seqs` as needed to decrease memory usage.\n",
      "\u001B[1;36m(VllmWorkerProcess pid=4092930)\u001B[0;0m INFO 12-01 19:21:20 model_runner.py:1518] Graph capturing finished in 80 secs, took 0.57 GiB\n",
      "INFO 12-01 19:21:20 model_runner.py:1518] Graph capturing finished in 81 secs, took 0.57 GiB\n"
     ]
    }
   ],
   "execution_count": 4
  },
  {
   "cell_type": "code",
   "metadata": {
    "ExecuteTime": {
     "end_time": "2024-12-01T11:21:25.879745Z",
     "start_time": "2024-12-01T11:21:21.766548Z"
    }
   },
   "source": [
    "from llama_index.embeddings.huggingface import HuggingFaceEmbedding\n",
    "\n",
    "embed_args = {\n",
    "    'model_name': '/home/ggg/.cache/huggingface/hub/text2vec-large-chinese', \n",
    "    'max_length': 512, \n",
    "    'embed_batch_size': 32, \n",
    "    'device': 'cuda'\n",
    "    }\n",
    "embed_model = HuggingFaceEmbedding(**embed_args)"
   ],
   "outputs": [
    {
     "name": "stderr",
     "output_type": "stream",
     "text": [
      "No sentence-transformers model found with name /home/ggg/.cache/huggingface/hub/text2vec-large-chinese. Creating a new one with MEAN pooling.\n"
     ]
    }
   ],
   "execution_count": 5
  },
  {
   "cell_type": "code",
   "metadata": {
    "ExecuteTime": {
     "end_time": "2024-12-01T11:21:27.735719Z",
     "start_time": "2024-12-01T11:21:25.891115Z"
    }
   },
   "source": [
    "!nvidia-smi"
   ],
   "outputs": [
    {
     "name": "stdout",
     "output_type": "stream",
     "text": [
      "/bin/bash: warning: setlocale: LC_ALL: cannot change locale (en_US.UTF-8)\r\n",
      "Sun Dec  1 19:21:27 2024       \r\n",
      "+---------------------------------------------------------------------------------------+\r\n",
      "| NVIDIA-SMI 535.183.01             Driver Version: 552.44       CUDA Version: 12.4     |\r\n",
      "|-----------------------------------------+----------------------+----------------------+\r\n",
      "| GPU  Name                 Persistence-M | Bus-Id        Disp.A | Volatile Uncorr. ECC |\r\n",
      "| Fan  Temp   Perf          Pwr:Usage/Cap |         Memory-Usage | GPU-Util  Compute M. |\r\n",
      "|                                         |                      |               MIG M. |\r\n",
      "|=========================================+======================+======================|\r\n",
      "|   0  NVIDIA GeForce RTX 4090        On  | 00000000:3B:00.0  On |                  Off |\r\n",
      "| 39%   36C    P8              19W / 450W |  21536MiB / 24564MiB |      0%      Default |\r\n",
      "|                                         |                      |                  N/A |\r\n",
      "+-----------------------------------------+----------------------+----------------------+\r\n",
      "|   1  NVIDIA GeForce RTX 4090        On  | 00000000:D8:00.0 Off |                  Off |\r\n",
      "| 43%   39C    P8               5W / 450W |  17633MiB / 24564MiB |      0%      Default |\r\n",
      "|                                         |                      |                  N/A |\r\n",
      "+-----------------------------------------+----------------------+----------------------+\r\n",
      "                                                                                         \r\n",
      "+---------------------------------------------------------------------------------------+\r\n",
      "| Processes:                                                                            |\r\n",
      "|  GPU   GI   CI        PID   Type   Process name                            GPU Memory |\r\n",
      "|        ID   ID                                                             Usage      |\r\n",
      "|=======================================================================================|\r\n",
      "|    0   N/A  N/A         1      C   /python3.8                                N/A      |\r\n",
      "|    0   N/A  N/A        22      G   /Xwayland                                 N/A      |\r\n",
      "|    0   N/A  N/A        38      G   /Xwayland                                 N/A      |\r\n",
      "|    0   N/A  N/A        75      G   /Xwayland                                 N/A      |\r\n",
      "|    0   N/A  N/A    305997      C   /python3.9                                N/A      |\r\n",
      "|    0   N/A  N/A   4092369      C   /python3.10                               N/A      |\r\n",
      "|    0   N/A  N/A   4092930      C   /python3.10                               N/A      |\r\n",
      "|    1   N/A  N/A         1      C   /python3.8                                N/A      |\r\n",
      "|    1   N/A  N/A        22      G   /Xwayland                                 N/A      |\r\n",
      "|    1   N/A  N/A        38      G   /Xwayland                                 N/A      |\r\n",
      "|    1   N/A  N/A        75      G   /Xwayland                                 N/A      |\r\n",
      "|    1   N/A  N/A    305997      C   /python3.9                                N/A      |\r\n",
      "|    1   N/A  N/A   4092369      C   /python3.10                               N/A      |\r\n",
      "|    1   N/A  N/A   4092930      C   /python3.10                               N/A      |\r\n",
      "+---------------------------------------------------------------------------------------+\r\n"
     ]
    }
   ],
   "execution_count": 6
  },
  {
   "cell_type": "code",
   "metadata": {
    "ExecuteTime": {
     "end_time": "2024-12-01T11:21:27.754912Z",
     "start_time": "2024-12-01T11:21:27.739721Z"
    }
   },
   "source": [
    "from llama_index.core import Settings\n",
    "# 把加载的模型添加到环境设置中，定义全局模型\n",
    "\n",
    "Settings.llm = llm\n",
    "Settings.embed_model = embed_model"
   ],
   "outputs": [],
   "execution_count": 7
  },
  {
   "cell_type": "code",
   "metadata": {
    "ExecuteTime": {
     "end_time": "2024-12-01T11:21:27.828815Z",
     "start_time": "2024-12-01T11:21:27.757710Z"
    }
   },
   "source": [
    "import os\n",
    "import json\n",
    "from llama_index.core import KnowledgeGraphIndex, SimpleDirectoryReader\n",
    "from llama_index.core import StorageContext\n",
    "from llama_index.graph_stores.nebula import NebulaGraphStore\n",
    "\n",
    "from IPython.display import Markdown, display"
   ],
   "outputs": [],
   "execution_count": 8
  },
  {
   "cell_type": "code",
   "metadata": {
    "ExecuteTime": {
     "end_time": "2024-12-01T11:21:28.598056Z",
     "start_time": "2024-12-01T11:21:27.831400Z"
    }
   },
   "source": "documents = SimpleDirectoryReader(\"./datasets\").load_data()",
   "outputs": [],
   "execution_count": 9
  },
  {
   "cell_type": "code",
   "metadata": {
    "ExecuteTime": {
     "end_time": "2024-12-01T11:21:28.966128Z",
     "start_time": "2024-12-01T11:21:28.600851Z"
    }
   },
   "source": [
    "%load_ext ngql\n",
    "%ngql --address 127.0.0.1 --port 9669 --user root --password nebula\n",
    "%ngql CREATE SPACE IF NOT EXISTS test(vid_type=FIXED_STRING(256));"
   ],
   "outputs": [
    {
     "name": "stdout",
     "output_type": "stream",
     "text": [
      "\u001B[1;3;38;2;0;135;107m[OK] Connection Pool Created\u001B[0m\n"
     ]
    },
    {
     "data": {
      "text/plain": [
       "Empty DataFrame\n",
       "Columns: []\n",
       "Index: []"
      ],
      "text/html": [
       "<div>\n",
       "<style scoped>\n",
       "    .dataframe tbody tr th:only-of-type {\n",
       "        vertical-align: middle;\n",
       "    }\n",
       "\n",
       "    .dataframe tbody tr th {\n",
       "        vertical-align: top;\n",
       "    }\n",
       "\n",
       "    .dataframe thead th {\n",
       "        text-align: right;\n",
       "    }\n",
       "</style>\n",
       "<table border=\"1\" class=\"dataframe\">\n",
       "  <thead>\n",
       "    <tr style=\"text-align: right;\">\n",
       "      <th></th>\n",
       "    </tr>\n",
       "  </thead>\n",
       "  <tbody>\n",
       "  </tbody>\n",
       "</table>\n",
       "</div>"
      ]
     },
     "execution_count": 10,
     "metadata": {},
     "output_type": "execute_result"
    }
   ],
   "execution_count": 10
  },
  {
   "cell_type": "code",
   "metadata": {
    "ExecuteTime": {
     "end_time": "2024-12-01T11:21:42.835007Z",
     "start_time": "2024-12-01T11:21:42.786275Z"
    }
   },
   "source": "%ngql USE test;",
   "outputs": [
    {
     "data": {
      "text/plain": [
       "Empty DataFrame\n",
       "Columns: []\n",
       "Index: []"
      ],
      "text/html": [
       "<div>\n",
       "<style scoped>\n",
       "    .dataframe tbody tr th:only-of-type {\n",
       "        vertical-align: middle;\n",
       "    }\n",
       "\n",
       "    .dataframe tbody tr th {\n",
       "        vertical-align: top;\n",
       "    }\n",
       "\n",
       "    .dataframe thead th {\n",
       "        text-align: right;\n",
       "    }\n",
       "</style>\n",
       "<table border=\"1\" class=\"dataframe\">\n",
       "  <thead>\n",
       "    <tr style=\"text-align: right;\">\n",
       "      <th></th>\n",
       "    </tr>\n",
       "  </thead>\n",
       "  <tbody>\n",
       "  </tbody>\n",
       "</table>\n",
       "</div>"
      ]
     },
     "execution_count": 13,
     "metadata": {},
     "output_type": "execute_result"
    }
   ],
   "execution_count": 13
  },
  {
   "cell_type": "code",
   "metadata": {
    "ExecuteTime": {
     "end_time": "2024-12-01T11:21:44.949897Z",
     "start_time": "2024-12-01T11:21:44.777223Z"
    }
   },
   "source": [
    "from llama_index.graph_stores.nebula import NebulaPropertyGraphStore\n",
    "\n",
    "# 加载刚刚创建的知识图谱，如果你之前创建过，把名称改一下\n",
    "graph_store = NebulaPropertyGraphStore(\n",
    "    space=\"test\", overwrite=True   # 数据库是test，这里可能有延迟，创建数据库后需要等个10s左右再连接\n",
    ")"
   ],
   "outputs": [],
   "execution_count": 14
  },
  {
   "cell_type": "code",
   "metadata": {
    "ExecuteTime": {
     "end_time": "2024-12-01T11:21:47.344692Z",
     "start_time": "2024-12-01T11:21:47.335287Z"
    }
   },
   "source": [
    "from llama_index.core.vector_stores.simple import SimpleVectorStore\n",
    "\n",
    "vec_store = SimpleVectorStore()"
   ],
   "outputs": [],
   "execution_count": 15
  },
  {
   "cell_type": "code",
   "metadata": {
    "ExecuteTime": {
     "end_time": "2024-12-01T11:21:48.316664Z",
     "start_time": "2024-12-01T11:21:48.185804Z"
    }
   },
   "source": [
    "%ngql ALTER TAG Props__ ADD (page_label string DEFAULT 'EMPTY');\n",
    "%ngql ALTER EDGE Relation__ ADD (page_label string NULL default NULL);"
   ],
   "outputs": [
    {
     "data": {
      "text/plain": [
       "Empty DataFrame\n",
       "Columns: []\n",
       "Index: []"
      ],
      "text/html": [
       "<div>\n",
       "<style scoped>\n",
       "    .dataframe tbody tr th:only-of-type {\n",
       "        vertical-align: middle;\n",
       "    }\n",
       "\n",
       "    .dataframe tbody tr th {\n",
       "        vertical-align: top;\n",
       "    }\n",
       "\n",
       "    .dataframe thead th {\n",
       "        text-align: right;\n",
       "    }\n",
       "</style>\n",
       "<table border=\"1\" class=\"dataframe\">\n",
       "  <thead>\n",
       "    <tr style=\"text-align: right;\">\n",
       "      <th></th>\n",
       "    </tr>\n",
       "  </thead>\n",
       "  <tbody>\n",
       "  </tbody>\n",
       "</table>\n",
       "</div>"
      ]
     },
     "execution_count": 16,
     "metadata": {},
     "output_type": "execute_result"
    }
   ],
   "execution_count": 16
  },
  {
   "cell_type": "code",
   "metadata": {
    "scrolled": true,
    "ExecuteTime": {
     "end_time": "2024-12-01T11:22:06.678839Z",
     "start_time": "2024-12-01T11:21:49.632958Z"
    }
   },
   "source": [
    "from llama_index.core.indices.property_graph import PropertyGraphIndex\n",
    "from llama_index.core.storage.storage_context import StorageContext\n",
    "\n",
    "index = PropertyGraphIndex.from_documents(\n",
    "    documents,\n",
    "    property_graph_store=graph_store,\n",
    "    vector_store=vec_store,\n",
    "    show_progress=True,\n",
    ")\n",
    "\n",
    "index.storage_context.vector_store.persist(\"./datasets/vec_store/nebula_vec_store.json\")"
   ],
   "outputs": [
    {
     "data": {
      "text/plain": [
       "Parsing nodes:   0%|          | 0/3 [00:00<?, ?it/s]"
      ],
      "application/vnd.jupyter.widget-view+json": {
       "version_major": 2,
       "version_minor": 0,
       "model_id": "069d85cfd9954cd7b5ddb67ae8102045"
      }
     },
     "metadata": {},
     "output_type": "display_data"
    },
    {
     "name": "stderr",
     "output_type": "stream",
     "text": [
      "Extracting paths from text:   0%|          | 0/3 [00:00<?, ?it/s]\n",
      "Processed prompts:   0%|          | 0/1 [00:00<?, ?it/s, est. speed input: 0.00 toks/s, output: 0.00 toks/s]\u001B[A\n",
      "Processed prompts: 100%|██████████| 1/1 [00:03<00:00,  3.72s/it, est. speed input: 110.14 toks/s, output: 26.93 toks/s]\u001B[A\n",
      "\n",
      "Processed prompts:   0%|          | 0/1 [00:00<?, ?it/s, est. speed input: 0.00 toks/s, output: 0.00 toks/s]\u001B[A\n",
      "Processed prompts: 100%|██████████| 1/1 [00:03<00:00,  3.55s/it, est. speed input: 136.32 toks/s, output: 28.22 toks/s]\u001B[A\n",
      "\n",
      "Processed prompts:   0%|          | 0/1 [00:00<?, ?it/s, est. speed input: 0.00 toks/s, output: 0.00 toks/s]\u001B[A\n",
      "Processed prompts: 100%|██████████| 1/1 [00:03<00:00,  3.56s/it, est. speed input: 145.91 toks/s, output: 28.17 toks/s]\u001B[A\n",
      "Extracting paths from text: 100%|██████████| 3/3 [00:10<00:00,  3.63s/it]\n",
      "Extracting implicit paths: 100%|██████████| 3/3 [00:00<00:00, 9612.61it/s]\n",
      "Generating embeddings: 100%|██████████| 1/1 [00:00<00:00,  1.63it/s]\n",
      "Generating embeddings: 100%|██████████| 2/2 [00:04<00:00,  2.13s/it]\n"
     ]
    }
   ],
   "execution_count": 17
  },
  {
   "cell_type": "code",
   "metadata": {
    "ExecuteTime": {
     "end_time": "2024-12-01T11:23:18.497671Z",
     "start_time": "2024-12-01T11:23:18.459563Z"
    }
   },
   "source": [
    "%ngql SHOW TAGS"
   ],
   "outputs": [
    {
     "data": {
      "text/plain": [
       "       Name\n",
       "0   Chunk__\n",
       "1  Entity__\n",
       "2    Node__\n",
       "3   Props__"
      ],
      "text/html": [
       "<div>\n",
       "<style scoped>\n",
       "    .dataframe tbody tr th:only-of-type {\n",
       "        vertical-align: middle;\n",
       "    }\n",
       "\n",
       "    .dataframe tbody tr th {\n",
       "        vertical-align: top;\n",
       "    }\n",
       "\n",
       "    .dataframe thead th {\n",
       "        text-align: right;\n",
       "    }\n",
       "</style>\n",
       "<table border=\"1\" class=\"dataframe\">\n",
       "  <thead>\n",
       "    <tr style=\"text-align: right;\">\n",
       "      <th></th>\n",
       "      <th>Name</th>\n",
       "    </tr>\n",
       "  </thead>\n",
       "  <tbody>\n",
       "    <tr>\n",
       "      <th>0</th>\n",
       "      <td>Chunk__</td>\n",
       "    </tr>\n",
       "    <tr>\n",
       "      <th>1</th>\n",
       "      <td>Entity__</td>\n",
       "    </tr>\n",
       "    <tr>\n",
       "      <th>2</th>\n",
       "      <td>Node__</td>\n",
       "    </tr>\n",
       "    <tr>\n",
       "      <th>3</th>\n",
       "      <td>Props__</td>\n",
       "    </tr>\n",
       "  </tbody>\n",
       "</table>\n",
       "</div>"
      ]
     },
     "execution_count": 18,
     "metadata": {},
     "output_type": "execute_result"
    }
   ],
   "execution_count": 18
  },
  {
   "cell_type": "code",
   "metadata": {
    "ExecuteTime": {
     "end_time": "2024-12-01T11:23:19.693397Z",
     "start_time": "2024-12-01T11:23:19.657812Z"
    }
   },
   "source": [
    "%ngql SHOW EDGES"
   ],
   "outputs": [
    {
     "data": {
      "text/plain": [
       "                   Name\n",
       "0            Relation__\n",
       "1  __meta__node_label__\n",
       "2   __meta__rel_label__"
      ],
      "text/html": [
       "<div>\n",
       "<style scoped>\n",
       "    .dataframe tbody tr th:only-of-type {\n",
       "        vertical-align: middle;\n",
       "    }\n",
       "\n",
       "    .dataframe tbody tr th {\n",
       "        vertical-align: top;\n",
       "    }\n",
       "\n",
       "    .dataframe thead th {\n",
       "        text-align: right;\n",
       "    }\n",
       "</style>\n",
       "<table border=\"1\" class=\"dataframe\">\n",
       "  <thead>\n",
       "    <tr style=\"text-align: right;\">\n",
       "      <th></th>\n",
       "      <th>Name</th>\n",
       "    </tr>\n",
       "  </thead>\n",
       "  <tbody>\n",
       "    <tr>\n",
       "      <th>0</th>\n",
       "      <td>Relation__</td>\n",
       "    </tr>\n",
       "    <tr>\n",
       "      <th>1</th>\n",
       "      <td>__meta__node_label__</td>\n",
       "    </tr>\n",
       "    <tr>\n",
       "      <th>2</th>\n",
       "      <td>__meta__rel_label__</td>\n",
       "    </tr>\n",
       "  </tbody>\n",
       "</table>\n",
       "</div>"
      ]
     },
     "execution_count": 19,
     "metadata": {},
     "output_type": "execute_result"
    }
   ],
   "execution_count": 19
  },
  {
   "cell_type": "code",
   "metadata": {
    "ExecuteTime": {
     "end_time": "2024-12-01T11:23:21.279821Z",
     "start_time": "2024-12-01T11:23:21.219155Z"
    }
   },
   "source": [
    "%ngql MATCH p=(v:Entity__)-[r]->(t:Entity__) RETURN v.Entity__.name AS src, r.label AS relation, t.Entity__.name AS dest LIMIT 15;"
   ],
   "outputs": [
    {
     "data": {
      "text/plain": [
       "        src     relation                    dest\n",
       "0    华东理工大学           评选                    优秀学生\n",
       "1    华东理工大学           评选                  优秀学生干部\n",
       "2    华东理工大学           评选                    先进集体\n",
       "3    华东理工大学           活动  全校范围内的本科生先进个人和先进集体评选活动\n",
       "4    华东理工大学           目的            培养和选树全面发展的人才\n",
       "5    华东理工大学           目的       引导和建设争创先进的优良学风班集体\n",
       "6    华东理工大学           目的              服务中国式现代化建设\n",
       "7   1. 先进个人  Application                 Student\n",
       "8      基本要求     Includes                    关心集体\n",
       "9      基本要求     Includes                勤奋学习所学专业\n",
       "10     基本要求     Includes                  拥护党的领导\n",
       "11     基本要求     Includes                 未受过任何处分\n",
       "12     基本要求     Includes                    热爱祖国\n",
       "13     基本要求     Includes                  道德品质优良\n",
       "14     基本要求     Includes               遵守法规和学校制度"
      ],
      "text/html": [
       "<div>\n",
       "<style scoped>\n",
       "    .dataframe tbody tr th:only-of-type {\n",
       "        vertical-align: middle;\n",
       "    }\n",
       "\n",
       "    .dataframe tbody tr th {\n",
       "        vertical-align: top;\n",
       "    }\n",
       "\n",
       "    .dataframe thead th {\n",
       "        text-align: right;\n",
       "    }\n",
       "</style>\n",
       "<table border=\"1\" class=\"dataframe\">\n",
       "  <thead>\n",
       "    <tr style=\"text-align: right;\">\n",
       "      <th></th>\n",
       "      <th>src</th>\n",
       "      <th>relation</th>\n",
       "      <th>dest</th>\n",
       "    </tr>\n",
       "  </thead>\n",
       "  <tbody>\n",
       "    <tr>\n",
       "      <th>0</th>\n",
       "      <td>华东理工大学</td>\n",
       "      <td>评选</td>\n",
       "      <td>优秀学生</td>\n",
       "    </tr>\n",
       "    <tr>\n",
       "      <th>1</th>\n",
       "      <td>华东理工大学</td>\n",
       "      <td>评选</td>\n",
       "      <td>优秀学生干部</td>\n",
       "    </tr>\n",
       "    <tr>\n",
       "      <th>2</th>\n",
       "      <td>华东理工大学</td>\n",
       "      <td>评选</td>\n",
       "      <td>先进集体</td>\n",
       "    </tr>\n",
       "    <tr>\n",
       "      <th>3</th>\n",
       "      <td>华东理工大学</td>\n",
       "      <td>活动</td>\n",
       "      <td>全校范围内的本科生先进个人和先进集体评选活动</td>\n",
       "    </tr>\n",
       "    <tr>\n",
       "      <th>4</th>\n",
       "      <td>华东理工大学</td>\n",
       "      <td>目的</td>\n",
       "      <td>培养和选树全面发展的人才</td>\n",
       "    </tr>\n",
       "    <tr>\n",
       "      <th>5</th>\n",
       "      <td>华东理工大学</td>\n",
       "      <td>目的</td>\n",
       "      <td>引导和建设争创先进的优良学风班集体</td>\n",
       "    </tr>\n",
       "    <tr>\n",
       "      <th>6</th>\n",
       "      <td>华东理工大学</td>\n",
       "      <td>目的</td>\n",
       "      <td>服务中国式现代化建设</td>\n",
       "    </tr>\n",
       "    <tr>\n",
       "      <th>7</th>\n",
       "      <td>1. 先进个人</td>\n",
       "      <td>Application</td>\n",
       "      <td>Student</td>\n",
       "    </tr>\n",
       "    <tr>\n",
       "      <th>8</th>\n",
       "      <td>基本要求</td>\n",
       "      <td>Includes</td>\n",
       "      <td>关心集体</td>\n",
       "    </tr>\n",
       "    <tr>\n",
       "      <th>9</th>\n",
       "      <td>基本要求</td>\n",
       "      <td>Includes</td>\n",
       "      <td>勤奋学习所学专业</td>\n",
       "    </tr>\n",
       "    <tr>\n",
       "      <th>10</th>\n",
       "      <td>基本要求</td>\n",
       "      <td>Includes</td>\n",
       "      <td>拥护党的领导</td>\n",
       "    </tr>\n",
       "    <tr>\n",
       "      <th>11</th>\n",
       "      <td>基本要求</td>\n",
       "      <td>Includes</td>\n",
       "      <td>未受过任何处分</td>\n",
       "    </tr>\n",
       "    <tr>\n",
       "      <th>12</th>\n",
       "      <td>基本要求</td>\n",
       "      <td>Includes</td>\n",
       "      <td>热爱祖国</td>\n",
       "    </tr>\n",
       "    <tr>\n",
       "      <th>13</th>\n",
       "      <td>基本要求</td>\n",
       "      <td>Includes</td>\n",
       "      <td>道德品质优良</td>\n",
       "    </tr>\n",
       "    <tr>\n",
       "      <th>14</th>\n",
       "      <td>基本要求</td>\n",
       "      <td>Includes</td>\n",
       "      <td>遵守法规和学校制度</td>\n",
       "    </tr>\n",
       "  </tbody>\n",
       "</table>\n",
       "</div>"
      ]
     },
     "execution_count": 20,
     "metadata": {},
     "output_type": "execute_result"
    }
   ],
   "execution_count": 20
  },
  {
   "cell_type": "code",
   "metadata": {
    "scrolled": true,
    "ExecuteTime": {
     "end_time": "2024-12-01T11:23:25.175701Z",
     "start_time": "2024-12-01T11:23:25.042494Z"
    }
   },
   "source": [
    "%ngql MATCH p=(v:Entity__)-[r]->(t:Entity__) RETURN p LIMIT 1000;"
   ],
   "outputs": [
    {
     "data": {
      "text/plain": [
       "                                                                                                                                                                                                                                                                                                                                                                                                                                                                                                                                                                                                                                                                                                                                                                                                                                                                                                                                                                                                                                                                                                                                                                                                                                                                                                                                                                                                                 p\n",
       "0                                       (\"华东理工大学\" :Props__{_node_content: __NULL__, _node_type: __NULL__, creation_date: \"2024-12-01\", doc_id: __NULL__, document_id: __NULL__, file_name: \"test.pdf\", file_path: \"/home/ggg/project/rag+kg-nebula/datasets/test.pdf\", file_size: 225015, file_type: \"application/pdf\", last_modified_date: \"2024-12-01\", page_label: \"1\", ref_doc_id: __NULL__, triplet_source_id: \"85a1d2a7-4e55-429c-960e-f1e81411b5e4\"} :Node__{label: \"entity\"} :Entity__{name: \"华东理工大学\"})-[:Relation__@0{label: \"评选\", triplet_source_id: \"85a1d2a7-4e55-429c-960e-f1e81411b5e4\", file_path: \"/home/ggg/project/rag+kg-nebula/datasets/test.pdf\", file_name: \"test.pdf\", file_type: \"application/pdf\", file_size: 225015, _node_type: __NULL__, creation_date: \"2024-12-01\", _node_content: __NULL__, last_modified_date: \"2024-12-01\", document_id: __NULL__, doc_id: __NULL__, ref_doc_id: __NULL__, page_label: \"1\"}]->(\"优秀学生\" :Props__{_node_content: __NULL__, _node_type: __NULL__, creation_date: \"2024-12-01\", doc_id: __NULL__, document_id: __NULL__, file_name: \"test.pdf\", file_path: \"/home/ggg/project/rag+kg-nebula/datasets/test.pdf\", file_size: 225015, file_type: \"application/pdf\", last_modified_date: \"2024-12-01\", page_label: \"1\", ref_doc_id: __NULL__, triplet_source_id: \"85a1d2a7-4e55-429c-960e-f1e81411b5e4\"} :Node__{label: \"entity\"} :Entity__{name: \"优秀学生\"})\n",
       "1                                   (\"华东理工大学\" :Props__{_node_content: __NULL__, _node_type: __NULL__, creation_date: \"2024-12-01\", doc_id: __NULL__, document_id: __NULL__, file_name: \"test.pdf\", file_path: \"/home/ggg/project/rag+kg-nebula/datasets/test.pdf\", file_size: 225015, file_type: \"application/pdf\", last_modified_date: \"2024-12-01\", page_label: \"1\", ref_doc_id: __NULL__, triplet_source_id: \"85a1d2a7-4e55-429c-960e-f1e81411b5e4\"} :Node__{label: \"entity\"} :Entity__{name: \"华东理工大学\"})-[:Relation__@0{label: \"评选\", triplet_source_id: \"85a1d2a7-4e55-429c-960e-f1e81411b5e4\", file_path: \"/home/ggg/project/rag+kg-nebula/datasets/test.pdf\", file_name: \"test.pdf\", file_type: \"application/pdf\", file_size: 225015, _node_type: __NULL__, creation_date: \"2024-12-01\", _node_content: __NULL__, last_modified_date: \"2024-12-01\", document_id: __NULL__, doc_id: __NULL__, ref_doc_id: __NULL__, page_label: \"1\"}]->(\"优秀学生干部\" :Props__{_node_content: __NULL__, _node_type: __NULL__, creation_date: \"2024-12-01\", doc_id: __NULL__, document_id: __NULL__, file_name: \"test.pdf\", file_path: \"/home/ggg/project/rag+kg-nebula/datasets/test.pdf\", file_size: 225015, file_type: \"application/pdf\", last_modified_date: \"2024-12-01\", page_label: \"1\", ref_doc_id: __NULL__, triplet_source_id: \"85a1d2a7-4e55-429c-960e-f1e81411b5e4\"} :Node__{label: \"entity\"} :Entity__{name: \"优秀学生干部\"})\n",
       "2                                       (\"华东理工大学\" :Props__{_node_content: __NULL__, _node_type: __NULL__, creation_date: \"2024-12-01\", doc_id: __NULL__, document_id: __NULL__, file_name: \"test.pdf\", file_path: \"/home/ggg/project/rag+kg-nebula/datasets/test.pdf\", file_size: 225015, file_type: \"application/pdf\", last_modified_date: \"2024-12-01\", page_label: \"1\", ref_doc_id: __NULL__, triplet_source_id: \"85a1d2a7-4e55-429c-960e-f1e81411b5e4\"} :Node__{label: \"entity\"} :Entity__{name: \"华东理工大学\"})-[:Relation__@0{label: \"评选\", triplet_source_id: \"85a1d2a7-4e55-429c-960e-f1e81411b5e4\", file_path: \"/home/ggg/project/rag+kg-nebula/datasets/test.pdf\", file_name: \"test.pdf\", file_type: \"application/pdf\", file_size: 225015, _node_type: __NULL__, creation_date: \"2024-12-01\", _node_content: __NULL__, last_modified_date: \"2024-12-01\", document_id: __NULL__, doc_id: __NULL__, ref_doc_id: __NULL__, page_label: \"1\"}]->(\"先进集体\" :Props__{_node_content: __NULL__, _node_type: __NULL__, creation_date: \"2024-12-01\", doc_id: __NULL__, document_id: __NULL__, file_name: \"test.pdf\", file_path: \"/home/ggg/project/rag+kg-nebula/datasets/test.pdf\", file_size: 225015, file_type: \"application/pdf\", last_modified_date: \"2024-12-01\", page_label: \"2\", ref_doc_id: __NULL__, triplet_source_id: \"b7fec670-2ff7-4dcc-8935-03abcbf6c594\"} :Node__{label: \"entity\"} :Entity__{name: \"先进集体\"})\n",
       "3   (\"华东理工大学\" :Props__{_node_content: __NULL__, _node_type: __NULL__, creation_date: \"2024-12-01\", doc_id: __NULL__, document_id: __NULL__, file_name: \"test.pdf\", file_path: \"/home/ggg/project/rag+kg-nebula/datasets/test.pdf\", file_size: 225015, file_type: \"application/pdf\", last_modified_date: \"2024-12-01\", page_label: \"1\", ref_doc_id: __NULL__, triplet_source_id: \"85a1d2a7-4e55-429c-960e-f1e81411b5e4\"} :Node__{label: \"entity\"} :Entity__{name: \"华东理工大学\"})-[:Relation__@0{label: \"活动\", triplet_source_id: \"85a1d2a7-4e55-429c-960e-f1e81411b5e4\", file_path: \"/home/ggg/project/rag+kg-nebula/datasets/test.pdf\", file_name: \"test.pdf\", file_type: \"application/pdf\", file_size: 225015, _node_type: __NULL__, creation_date: \"2024-12-01\", _node_content: __NULL__, last_modified_date: \"2024-12-01\", document_id: __NULL__, doc_id: __NULL__, ref_doc_id: __NULL__, page_label: \"1\"}]->(\"全校范围内的本科生先进个人和先进集体评选活动\" :Props__{_node_content: __NULL__, _node_type: __NULL__, creation_date: \"2024-12-01\", doc_id: __NULL__, document_id: __NULL__, file_name: \"test.pdf\", file_path: \"/home/ggg/project/rag+kg-nebula/datasets/test.pdf\", file_size: 225015, file_type: \"application/pdf\", last_modified_date: \"2024-12-01\", page_label: \"1\", ref_doc_id: __NULL__, triplet_source_id: \"85a1d2a7-4e55-429c-960e-f1e81411b5e4\"} :Node__{label: \"entity\"} :Entity__{name: \"全校范围内的本科生先进个人和先进集体评选活动\"})\n",
       "4                       (\"华东理工大学\" :Props__{_node_content: __NULL__, _node_type: __NULL__, creation_date: \"2024-12-01\", doc_id: __NULL__, document_id: __NULL__, file_name: \"test.pdf\", file_path: \"/home/ggg/project/rag+kg-nebula/datasets/test.pdf\", file_size: 225015, file_type: \"application/pdf\", last_modified_date: \"2024-12-01\", page_label: \"1\", ref_doc_id: __NULL__, triplet_source_id: \"85a1d2a7-4e55-429c-960e-f1e81411b5e4\"} :Node__{label: \"entity\"} :Entity__{name: \"华东理工大学\"})-[:Relation__@0{label: \"目的\", triplet_source_id: \"85a1d2a7-4e55-429c-960e-f1e81411b5e4\", file_path: \"/home/ggg/project/rag+kg-nebula/datasets/test.pdf\", file_name: \"test.pdf\", file_type: \"application/pdf\", file_size: 225015, _node_type: __NULL__, creation_date: \"2024-12-01\", _node_content: __NULL__, last_modified_date: \"2024-12-01\", document_id: __NULL__, doc_id: __NULL__, ref_doc_id: __NULL__, page_label: \"1\"}]->(\"培养和选树全面发展的人才\" :Props__{_node_content: __NULL__, _node_type: __NULL__, creation_date: \"2024-12-01\", doc_id: __NULL__, document_id: __NULL__, file_name: \"test.pdf\", file_path: \"/home/ggg/project/rag+kg-nebula/datasets/test.pdf\", file_size: 225015, file_type: \"application/pdf\", last_modified_date: \"2024-12-01\", page_label: \"1\", ref_doc_id: __NULL__, triplet_source_id: \"85a1d2a7-4e55-429c-960e-f1e81411b5e4\"} :Node__{label: \"entity\"} :Entity__{name: \"培养和选树全面发展的人才\"})\n",
       "5             (\"华东理工大学\" :Props__{_node_content: __NULL__, _node_type: __NULL__, creation_date: \"2024-12-01\", doc_id: __NULL__, document_id: __NULL__, file_name: \"test.pdf\", file_path: \"/home/ggg/project/rag+kg-nebula/datasets/test.pdf\", file_size: 225015, file_type: \"application/pdf\", last_modified_date: \"2024-12-01\", page_label: \"1\", ref_doc_id: __NULL__, triplet_source_id: \"85a1d2a7-4e55-429c-960e-f1e81411b5e4\"} :Node__{label: \"entity\"} :Entity__{name: \"华东理工大学\"})-[:Relation__@0{label: \"目的\", triplet_source_id: \"85a1d2a7-4e55-429c-960e-f1e81411b5e4\", file_path: \"/home/ggg/project/rag+kg-nebula/datasets/test.pdf\", file_name: \"test.pdf\", file_type: \"application/pdf\", file_size: 225015, _node_type: __NULL__, creation_date: \"2024-12-01\", _node_content: __NULL__, last_modified_date: \"2024-12-01\", document_id: __NULL__, doc_id: __NULL__, ref_doc_id: __NULL__, page_label: \"1\"}]->(\"引导和建设争创先进的优良学风班集体\" :Props__{_node_content: __NULL__, _node_type: __NULL__, creation_date: \"2024-12-01\", doc_id: __NULL__, document_id: __NULL__, file_name: \"test.pdf\", file_path: \"/home/ggg/project/rag+kg-nebula/datasets/test.pdf\", file_size: 225015, file_type: \"application/pdf\", last_modified_date: \"2024-12-01\", page_label: \"1\", ref_doc_id: __NULL__, triplet_source_id: \"85a1d2a7-4e55-429c-960e-f1e81411b5e4\"} :Node__{label: \"entity\"} :Entity__{name: \"引导和建设争创先进的优良学风班集体\"})\n",
       "6                           (\"华东理工大学\" :Props__{_node_content: __NULL__, _node_type: __NULL__, creation_date: \"2024-12-01\", doc_id: __NULL__, document_id: __NULL__, file_name: \"test.pdf\", file_path: \"/home/ggg/project/rag+kg-nebula/datasets/test.pdf\", file_size: 225015, file_type: \"application/pdf\", last_modified_date: \"2024-12-01\", page_label: \"1\", ref_doc_id: __NULL__, triplet_source_id: \"85a1d2a7-4e55-429c-960e-f1e81411b5e4\"} :Node__{label: \"entity\"} :Entity__{name: \"华东理工大学\"})-[:Relation__@0{label: \"目的\", triplet_source_id: \"85a1d2a7-4e55-429c-960e-f1e81411b5e4\", file_path: \"/home/ggg/project/rag+kg-nebula/datasets/test.pdf\", file_name: \"test.pdf\", file_type: \"application/pdf\", file_size: 225015, _node_type: __NULL__, creation_date: \"2024-12-01\", _node_content: __NULL__, last_modified_date: \"2024-12-01\", document_id: __NULL__, doc_id: __NULL__, ref_doc_id: __NULL__, page_label: \"1\"}]->(\"服务中国式现代化建设\" :Props__{_node_content: __NULL__, _node_type: __NULL__, creation_date: \"2024-12-01\", doc_id: __NULL__, document_id: __NULL__, file_name: \"test.pdf\", file_path: \"/home/ggg/project/rag+kg-nebula/datasets/test.pdf\", file_size: 225015, file_type: \"application/pdf\", last_modified_date: \"2024-12-01\", page_label: \"1\", ref_doc_id: __NULL__, triplet_source_id: \"85a1d2a7-4e55-429c-960e-f1e81411b5e4\"} :Node__{label: \"entity\"} :Entity__{name: \"服务中国式现代化建设\"})\n",
       "7                      (\"1. 先进个人\" :Props__{_node_content: __NULL__, _node_type: __NULL__, creation_date: \"2024-12-01\", doc_id: __NULL__, document_id: __NULL__, file_name: \"test.pdf\", file_path: \"/home/ggg/project/rag+kg-nebula/datasets/test.pdf\", file_size: 225015, file_type: \"application/pdf\", last_modified_date: \"2024-12-01\", page_label: \"3\", ref_doc_id: __NULL__, triplet_source_id: \"8cd554cf-ddf1-4f4d-ac16-9b4b5026db58\"} :Node__{label: \"entity\"} :Entity__{name: \"1. 先进个人\"})-[:Relation__@0{label: \"Application\", triplet_source_id: \"8cd554cf-ddf1-4f4d-ac16-9b4b5026db58\", file_path: \"/home/ggg/project/rag+kg-nebula/datasets/test.pdf\", file_name: \"test.pdf\", file_type: \"application/pdf\", file_size: 225015, _node_type: __NULL__, creation_date: \"2024-12-01\", _node_content: __NULL__, last_modified_date: \"2024-12-01\", document_id: __NULL__, doc_id: __NULL__, ref_doc_id: __NULL__, page_label: \"3\"}]->(\"Student\" :Props__{_node_content: __NULL__, _node_type: __NULL__, creation_date: \"2024-12-01\", doc_id: __NULL__, document_id: __NULL__, file_name: \"test.pdf\", file_path: \"/home/ggg/project/rag+kg-nebula/datasets/test.pdf\", file_size: 225015, file_type: \"application/pdf\", last_modified_date: \"2024-12-01\", page_label: \"3\", ref_doc_id: __NULL__, triplet_source_id: \"8cd554cf-ddf1-4f4d-ac16-9b4b5026db58\"} :Node__{label: \"entity\"} :Entity__{name: \"Student\"})\n",
       "8                                     (\"基本要求\" :Props__{_node_content: __NULL__, _node_type: __NULL__, creation_date: \"2024-12-01\", doc_id: __NULL__, document_id: __NULL__, file_name: \"test.pdf\", file_path: \"/home/ggg/project/rag+kg-nebula/datasets/test.pdf\", file_size: 225015, file_type: \"application/pdf\", last_modified_date: \"2024-12-01\", page_label: \"2\", ref_doc_id: __NULL__, triplet_source_id: \"b7fec670-2ff7-4dcc-8935-03abcbf6c594\"} :Node__{label: \"entity\"} :Entity__{name: \"基本要求\"})-[:Relation__@0{label: \"Includes\", triplet_source_id: \"b7fec670-2ff7-4dcc-8935-03abcbf6c594\", file_path: \"/home/ggg/project/rag+kg-nebula/datasets/test.pdf\", file_name: \"test.pdf\", file_type: \"application/pdf\", file_size: 225015, _node_type: __NULL__, creation_date: \"2024-12-01\", _node_content: __NULL__, last_modified_date: \"2024-12-01\", document_id: __NULL__, doc_id: __NULL__, ref_doc_id: __NULL__, page_label: \"2\"}]->(\"关心集体\" :Props__{_node_content: __NULL__, _node_type: __NULL__, creation_date: \"2024-12-01\", doc_id: __NULL__, document_id: __NULL__, file_name: \"test.pdf\", file_path: \"/home/ggg/project/rag+kg-nebula/datasets/test.pdf\", file_size: 225015, file_type: \"application/pdf\", last_modified_date: \"2024-12-01\", page_label: \"2\", ref_doc_id: __NULL__, triplet_source_id: \"b7fec670-2ff7-4dcc-8935-03abcbf6c594\"} :Node__{label: \"entity\"} :Entity__{name: \"关心集体\"})\n",
       "9                             (\"基本要求\" :Props__{_node_content: __NULL__, _node_type: __NULL__, creation_date: \"2024-12-01\", doc_id: __NULL__, document_id: __NULL__, file_name: \"test.pdf\", file_path: \"/home/ggg/project/rag+kg-nebula/datasets/test.pdf\", file_size: 225015, file_type: \"application/pdf\", last_modified_date: \"2024-12-01\", page_label: \"2\", ref_doc_id: __NULL__, triplet_source_id: \"b7fec670-2ff7-4dcc-8935-03abcbf6c594\"} :Node__{label: \"entity\"} :Entity__{name: \"基本要求\"})-[:Relation__@0{label: \"Includes\", triplet_source_id: \"b7fec670-2ff7-4dcc-8935-03abcbf6c594\", file_path: \"/home/ggg/project/rag+kg-nebula/datasets/test.pdf\", file_name: \"test.pdf\", file_type: \"application/pdf\", file_size: 225015, _node_type: __NULL__, creation_date: \"2024-12-01\", _node_content: __NULL__, last_modified_date: \"2024-12-01\", document_id: __NULL__, doc_id: __NULL__, ref_doc_id: __NULL__, page_label: \"2\"}]->(\"勤奋学习所学专业\" :Props__{_node_content: __NULL__, _node_type: __NULL__, creation_date: \"2024-12-01\", doc_id: __NULL__, document_id: __NULL__, file_name: \"test.pdf\", file_path: \"/home/ggg/project/rag+kg-nebula/datasets/test.pdf\", file_size: 225015, file_type: \"application/pdf\", last_modified_date: \"2024-12-01\", page_label: \"2\", ref_doc_id: __NULL__, triplet_source_id: \"b7fec670-2ff7-4dcc-8935-03abcbf6c594\"} :Node__{label: \"entity\"} :Entity__{name: \"勤奋学习所学专业\"})\n",
       "10                                (\"基本要求\" :Props__{_node_content: __NULL__, _node_type: __NULL__, creation_date: \"2024-12-01\", doc_id: __NULL__, document_id: __NULL__, file_name: \"test.pdf\", file_path: \"/home/ggg/project/rag+kg-nebula/datasets/test.pdf\", file_size: 225015, file_type: \"application/pdf\", last_modified_date: \"2024-12-01\", page_label: \"2\", ref_doc_id: __NULL__, triplet_source_id: \"b7fec670-2ff7-4dcc-8935-03abcbf6c594\"} :Node__{label: \"entity\"} :Entity__{name: \"基本要求\"})-[:Relation__@0{label: \"Includes\", triplet_source_id: \"b7fec670-2ff7-4dcc-8935-03abcbf6c594\", file_path: \"/home/ggg/project/rag+kg-nebula/datasets/test.pdf\", file_name: \"test.pdf\", file_type: \"application/pdf\", file_size: 225015, _node_type: __NULL__, creation_date: \"2024-12-01\", _node_content: __NULL__, last_modified_date: \"2024-12-01\", document_id: __NULL__, doc_id: __NULL__, ref_doc_id: __NULL__, page_label: \"2\"}]->(\"拥护党的领导\" :Props__{_node_content: __NULL__, _node_type: __NULL__, creation_date: \"2024-12-01\", doc_id: __NULL__, document_id: __NULL__, file_name: \"test.pdf\", file_path: \"/home/ggg/project/rag+kg-nebula/datasets/test.pdf\", file_size: 225015, file_type: \"application/pdf\", last_modified_date: \"2024-12-01\", page_label: \"2\", ref_doc_id: __NULL__, triplet_source_id: \"b7fec670-2ff7-4dcc-8935-03abcbf6c594\"} :Node__{label: \"entity\"} :Entity__{name: \"拥护党的领导\"})\n",
       "11                              (\"基本要求\" :Props__{_node_content: __NULL__, _node_type: __NULL__, creation_date: \"2024-12-01\", doc_id: __NULL__, document_id: __NULL__, file_name: \"test.pdf\", file_path: \"/home/ggg/project/rag+kg-nebula/datasets/test.pdf\", file_size: 225015, file_type: \"application/pdf\", last_modified_date: \"2024-12-01\", page_label: \"2\", ref_doc_id: __NULL__, triplet_source_id: \"b7fec670-2ff7-4dcc-8935-03abcbf6c594\"} :Node__{label: \"entity\"} :Entity__{name: \"基本要求\"})-[:Relation__@0{label: \"Includes\", triplet_source_id: \"b7fec670-2ff7-4dcc-8935-03abcbf6c594\", file_path: \"/home/ggg/project/rag+kg-nebula/datasets/test.pdf\", file_name: \"test.pdf\", file_type: \"application/pdf\", file_size: 225015, _node_type: __NULL__, creation_date: \"2024-12-01\", _node_content: __NULL__, last_modified_date: \"2024-12-01\", document_id: __NULL__, doc_id: __NULL__, ref_doc_id: __NULL__, page_label: \"2\"}]->(\"未受过任何处分\" :Props__{_node_content: __NULL__, _node_type: __NULL__, creation_date: \"2024-12-01\", doc_id: __NULL__, document_id: __NULL__, file_name: \"test.pdf\", file_path: \"/home/ggg/project/rag+kg-nebula/datasets/test.pdf\", file_size: 225015, file_type: \"application/pdf\", last_modified_date: \"2024-12-01\", page_label: \"2\", ref_doc_id: __NULL__, triplet_source_id: \"b7fec670-2ff7-4dcc-8935-03abcbf6c594\"} :Node__{label: \"entity\"} :Entity__{name: \"未受过任何处分\"})\n",
       "12                                    (\"基本要求\" :Props__{_node_content: __NULL__, _node_type: __NULL__, creation_date: \"2024-12-01\", doc_id: __NULL__, document_id: __NULL__, file_name: \"test.pdf\", file_path: \"/home/ggg/project/rag+kg-nebula/datasets/test.pdf\", file_size: 225015, file_type: \"application/pdf\", last_modified_date: \"2024-12-01\", page_label: \"2\", ref_doc_id: __NULL__, triplet_source_id: \"b7fec670-2ff7-4dcc-8935-03abcbf6c594\"} :Node__{label: \"entity\"} :Entity__{name: \"基本要求\"})-[:Relation__@0{label: \"Includes\", triplet_source_id: \"b7fec670-2ff7-4dcc-8935-03abcbf6c594\", file_path: \"/home/ggg/project/rag+kg-nebula/datasets/test.pdf\", file_name: \"test.pdf\", file_type: \"application/pdf\", file_size: 225015, _node_type: __NULL__, creation_date: \"2024-12-01\", _node_content: __NULL__, last_modified_date: \"2024-12-01\", document_id: __NULL__, doc_id: __NULL__, ref_doc_id: __NULL__, page_label: \"2\"}]->(\"热爱祖国\" :Props__{_node_content: __NULL__, _node_type: __NULL__, creation_date: \"2024-12-01\", doc_id: __NULL__, document_id: __NULL__, file_name: \"test.pdf\", file_path: \"/home/ggg/project/rag+kg-nebula/datasets/test.pdf\", file_size: 225015, file_type: \"application/pdf\", last_modified_date: \"2024-12-01\", page_label: \"2\", ref_doc_id: __NULL__, triplet_source_id: \"b7fec670-2ff7-4dcc-8935-03abcbf6c594\"} :Node__{label: \"entity\"} :Entity__{name: \"热爱祖国\"})\n",
       "13                                (\"基本要求\" :Props__{_node_content: __NULL__, _node_type: __NULL__, creation_date: \"2024-12-01\", doc_id: __NULL__, document_id: __NULL__, file_name: \"test.pdf\", file_path: \"/home/ggg/project/rag+kg-nebula/datasets/test.pdf\", file_size: 225015, file_type: \"application/pdf\", last_modified_date: \"2024-12-01\", page_label: \"2\", ref_doc_id: __NULL__, triplet_source_id: \"b7fec670-2ff7-4dcc-8935-03abcbf6c594\"} :Node__{label: \"entity\"} :Entity__{name: \"基本要求\"})-[:Relation__@0{label: \"Includes\", triplet_source_id: \"b7fec670-2ff7-4dcc-8935-03abcbf6c594\", file_path: \"/home/ggg/project/rag+kg-nebula/datasets/test.pdf\", file_name: \"test.pdf\", file_type: \"application/pdf\", file_size: 225015, _node_type: __NULL__, creation_date: \"2024-12-01\", _node_content: __NULL__, last_modified_date: \"2024-12-01\", document_id: __NULL__, doc_id: __NULL__, ref_doc_id: __NULL__, page_label: \"2\"}]->(\"道德品质优良\" :Props__{_node_content: __NULL__, _node_type: __NULL__, creation_date: \"2024-12-01\", doc_id: __NULL__, document_id: __NULL__, file_name: \"test.pdf\", file_path: \"/home/ggg/project/rag+kg-nebula/datasets/test.pdf\", file_size: 225015, file_type: \"application/pdf\", last_modified_date: \"2024-12-01\", page_label: \"2\", ref_doc_id: __NULL__, triplet_source_id: \"b7fec670-2ff7-4dcc-8935-03abcbf6c594\"} :Node__{label: \"entity\"} :Entity__{name: \"道德品质优良\"})\n",
       "14                          (\"基本要求\" :Props__{_node_content: __NULL__, _node_type: __NULL__, creation_date: \"2024-12-01\", doc_id: __NULL__, document_id: __NULL__, file_name: \"test.pdf\", file_path: \"/home/ggg/project/rag+kg-nebula/datasets/test.pdf\", file_size: 225015, file_type: \"application/pdf\", last_modified_date: \"2024-12-01\", page_label: \"2\", ref_doc_id: __NULL__, triplet_source_id: \"b7fec670-2ff7-4dcc-8935-03abcbf6c594\"} :Node__{label: \"entity\"} :Entity__{name: \"基本要求\"})-[:Relation__@0{label: \"Includes\", triplet_source_id: \"b7fec670-2ff7-4dcc-8935-03abcbf6c594\", file_path: \"/home/ggg/project/rag+kg-nebula/datasets/test.pdf\", file_name: \"test.pdf\", file_type: \"application/pdf\", file_size: 225015, _node_type: __NULL__, creation_date: \"2024-12-01\", _node_content: __NULL__, last_modified_date: \"2024-12-01\", document_id: __NULL__, doc_id: __NULL__, ref_doc_id: __NULL__, page_label: \"2\"}]->(\"遵守法规和学校制度\" :Props__{_node_content: __NULL__, _node_type: __NULL__, creation_date: \"2024-12-01\", doc_id: __NULL__, document_id: __NULL__, file_name: \"test.pdf\", file_path: \"/home/ggg/project/rag+kg-nebula/datasets/test.pdf\", file_size: 225015, file_type: \"application/pdf\", last_modified_date: \"2024-12-01\", page_label: \"2\", ref_doc_id: __NULL__, triplet_source_id: \"b7fec670-2ff7-4dcc-8935-03abcbf6c594\"} :Node__{label: \"entity\"} :Entity__{name: \"遵守法规和学校制度\"})\n",
       "15                                (\"1. 优秀学生\" :Props__{_node_content: __NULL__, _node_type: __NULL__, creation_date: \"2024-12-01\", doc_id: __NULL__, document_id: __NULL__, file_name: \"test.pdf\", file_path: \"/home/ggg/project/rag+kg-nebula/datasets/test.pdf\", file_size: 225015, file_type: \"application/pdf\", last_modified_date: \"2024-12-01\", page_label: \"3\", ref_doc_id: __NULL__, triplet_source_id: \"8cd554cf-ddf1-4f4d-ac16-9b4b5026db58\"} :Node__{label: \"entity\"} :Entity__{name: \"1. 优秀学生\"})-[:Relation__@0{label: \"Reward\", triplet_source_id: \"8cd554cf-ddf1-4f4d-ac16-9b4b5026db58\", file_path: \"/home/ggg/project/rag+kg-nebula/datasets/test.pdf\", file_name: \"test.pdf\", file_type: \"application/pdf\", file_size: 225015, _node_type: __NULL__, creation_date: \"2024-12-01\", _node_content: __NULL__, last_modified_date: \"2024-12-01\", document_id: __NULL__, doc_id: __NULL__, ref_doc_id: __NULL__, page_label: \"3\"}]->(\"200元\" :Props__{_node_content: __NULL__, _node_type: __NULL__, creation_date: \"2024-12-01\", doc_id: __NULL__, document_id: __NULL__, file_name: \"test.pdf\", file_path: \"/home/ggg/project/rag+kg-nebula/datasets/test.pdf\", file_size: 225015, file_type: \"application/pdf\", last_modified_date: \"2024-12-01\", page_label: \"3\", ref_doc_id: __NULL__, triplet_source_id: \"8cd554cf-ddf1-4f4d-ac16-9b4b5026db58\"} :Node__{label: \"entity\"} :Entity__{name: \"200元\"})\n",
       "16                            (\"2. 十佳班集体\" :Props__{_node_content: __NULL__, _node_type: __NULL__, creation_date: \"2024-12-01\", doc_id: __NULL__, document_id: __NULL__, file_name: \"test.pdf\", file_path: \"/home/ggg/project/rag+kg-nebula/datasets/test.pdf\", file_size: 225015, file_type: \"application/pdf\", last_modified_date: \"2024-12-01\", page_label: \"3\", ref_doc_id: __NULL__, triplet_source_id: \"8cd554cf-ddf1-4f4d-ac16-9b4b5026db58\"} :Node__{label: \"entity\"} :Entity__{name: \"2. 十佳班集体\"})-[:Relation__@0{label: \"Reward\", triplet_source_id: \"8cd554cf-ddf1-4f4d-ac16-9b4b5026db58\", file_path: \"/home/ggg/project/rag+kg-nebula/datasets/test.pdf\", file_name: \"test.pdf\", file_type: \"application/pdf\", file_size: 225015, _node_type: __NULL__, creation_date: \"2024-12-01\", _node_content: __NULL__, last_modified_date: \"2024-12-01\", document_id: __NULL__, doc_id: __NULL__, ref_doc_id: __NULL__, page_label: \"3\"}]->(\"3000元\" :Props__{_node_content: __NULL__, _node_type: __NULL__, creation_date: \"2024-12-01\", doc_id: __NULL__, document_id: __NULL__, file_name: \"test.pdf\", file_path: \"/home/ggg/project/rag+kg-nebula/datasets/test.pdf\", file_size: 225015, file_type: \"application/pdf\", last_modified_date: \"2024-12-01\", page_label: \"3\", ref_doc_id: __NULL__, triplet_source_id: \"8cd554cf-ddf1-4f4d-ac16-9b4b5026db58\"} :Node__{label: \"entity\"} :Entity__{name: \"3000元\"})\n",
       "17                            (\"2. 先进班集体\" :Props__{_node_content: __NULL__, _node_type: __NULL__, creation_date: \"2024-12-01\", doc_id: __NULL__, document_id: __NULL__, file_name: \"test.pdf\", file_path: \"/home/ggg/project/rag+kg-nebula/datasets/test.pdf\", file_size: 225015, file_type: \"application/pdf\", last_modified_date: \"2024-12-01\", page_label: \"3\", ref_doc_id: __NULL__, triplet_source_id: \"8cd554cf-ddf1-4f4d-ac16-9b4b5026db58\"} :Node__{label: \"entity\"} :Entity__{name: \"2. 先进班集体\"})-[:Relation__@0{label: \"Reward\", triplet_source_id: \"8cd554cf-ddf1-4f4d-ac16-9b4b5026db58\", file_path: \"/home/ggg/project/rag+kg-nebula/datasets/test.pdf\", file_name: \"test.pdf\", file_type: \"application/pdf\", file_size: 225015, _node_type: __NULL__, creation_date: \"2024-12-01\", _node_content: __NULL__, last_modified_date: \"2024-12-01\", document_id: __NULL__, doc_id: __NULL__, ref_doc_id: __NULL__, page_label: \"3\"}]->(\"2000元\" :Props__{_node_content: __NULL__, _node_type: __NULL__, creation_date: \"2024-12-01\", doc_id: __NULL__, document_id: __NULL__, file_name: \"test.pdf\", file_path: \"/home/ggg/project/rag+kg-nebula/datasets/test.pdf\", file_size: 225015, file_type: \"application/pdf\", last_modified_date: \"2024-12-01\", page_label: \"3\", ref_doc_id: __NULL__, triplet_source_id: \"8cd554cf-ddf1-4f4d-ac16-9b4b5026db58\"} :Node__{label: \"entity\"} :Entity__{name: \"2000元\"})\n",
       "18                        (\"2. 优良学风班集体\" :Props__{_node_content: __NULL__, _node_type: __NULL__, creation_date: \"2024-12-01\", doc_id: __NULL__, document_id: __NULL__, file_name: \"test.pdf\", file_path: \"/home/ggg/project/rag+kg-nebula/datasets/test.pdf\", file_size: 225015, file_type: \"application/pdf\", last_modified_date: \"2024-12-01\", page_label: \"3\", ref_doc_id: __NULL__, triplet_source_id: \"8cd554cf-ddf1-4f4d-ac16-9b4b5026db58\"} :Node__{label: \"entity\"} :Entity__{name: \"2. 优良学风班集体\"})-[:Relation__@0{label: \"Reward\", triplet_source_id: \"8cd554cf-ddf1-4f4d-ac16-9b4b5026db58\", file_path: \"/home/ggg/project/rag+kg-nebula/datasets/test.pdf\", file_name: \"test.pdf\", file_type: \"application/pdf\", file_size: 225015, _node_type: __NULL__, creation_date: \"2024-12-01\", _node_content: __NULL__, last_modified_date: \"2024-12-01\", document_id: __NULL__, doc_id: __NULL__, ref_doc_id: __NULL__, page_label: \"3\"}]->(\"1000元\" :Props__{_node_content: __NULL__, _node_type: __NULL__, creation_date: \"2024-12-01\", doc_id: __NULL__, document_id: __NULL__, file_name: \"test.pdf\", file_path: \"/home/ggg/project/rag+kg-nebula/datasets/test.pdf\", file_size: 225015, file_type: \"application/pdf\", last_modified_date: \"2024-12-01\", page_label: \"3\", ref_doc_id: __NULL__, triplet_source_id: \"8cd554cf-ddf1-4f4d-ac16-9b4b5026db58\"} :Node__{label: \"entity\"} :Entity__{name: \"1000元\"})\n",
       "19                          (\"3. 先进集体\" :Props__{_node_content: __NULL__, _node_type: __NULL__, creation_date: \"2024-12-01\", doc_id: __NULL__, document_id: __NULL__, file_name: \"test.pdf\", file_path: \"/home/ggg/project/rag+kg-nebula/datasets/test.pdf\", file_size: 225015, file_type: \"application/pdf\", last_modified_date: \"2024-12-01\", page_label: \"3\", ref_doc_id: __NULL__, triplet_source_id: \"8cd554cf-ddf1-4f4d-ac16-9b4b5026db58\"} :Node__{label: \"entity\"} :Entity__{name: \"3. 先进集体\"})-[:Relation__@0{label: \"Reward\", triplet_source_id: \"8cd554cf-ddf1-4f4d-ac16-9b4b5026db58\", file_path: \"/home/ggg/project/rag+kg-nebula/datasets/test.pdf\", file_name: \"test.pdf\", file_type: \"application/pdf\", file_size: 225015, _node_type: __NULL__, creation_date: \"2024-12-01\", _node_content: __NULL__, last_modified_date: \"2024-12-01\", document_id: __NULL__, doc_id: __NULL__, ref_doc_id: __NULL__, page_label: \"3\"}]->(\"Highest\" :Props__{_node_content: __NULL__, _node_type: __NULL__, creation_date: \"2024-12-01\", doc_id: __NULL__, document_id: __NULL__, file_name: \"test.pdf\", file_path: \"/home/ggg/project/rag+kg-nebula/datasets/test.pdf\", file_size: 225015, file_type: \"application/pdf\", last_modified_date: \"2024-12-01\", page_label: \"3\", ref_doc_id: __NULL__, triplet_source_id: \"8cd554cf-ddf1-4f4d-ac16-9b4b5026db58\"} :Node__{label: \"entity\"} :Entity__{name: \"Highest\"})\n",
       "20                                          (\"先进集体\" :Props__{_node_content: __NULL__, _node_type: __NULL__, creation_date: \"2024-12-01\", doc_id: __NULL__, document_id: __NULL__, file_name: \"test.pdf\", file_path: \"/home/ggg/project/rag+kg-nebula/datasets/test.pdf\", file_size: 225015, file_type: \"application/pdf\", last_modified_date: \"2024-12-01\", page_label: \"2\", ref_doc_id: __NULL__, triplet_source_id: \"b7fec670-2ff7-4dcc-8935-03abcbf6c594\"} :Node__{label: \"entity\"} :Entity__{name: \"先进集体\"})-[:Relation__@0{label: \"Is\", triplet_source_id: \"b7fec670-2ff7-4dcc-8935-03abcbf6c594\", file_path: \"/home/ggg/project/rag+kg-nebula/datasets/test.pdf\", file_name: \"test.pdf\", file_type: \"application/pdf\", file_size: 225015, _node_type: __NULL__, creation_date: \"2024-12-01\", _node_content: __NULL__, last_modified_date: \"2024-12-01\", document_id: __NULL__, doc_id: __NULL__, ref_doc_id: __NULL__, page_label: \"2\"}]->(\"班级荣誉\" :Props__{_node_content: __NULL__, _node_type: __NULL__, creation_date: \"2024-12-01\", doc_id: __NULL__, document_id: __NULL__, file_name: \"test.pdf\", file_path: \"/home/ggg/project/rag+kg-nebula/datasets/test.pdf\", file_size: 225015, file_type: \"application/pdf\", last_modified_date: \"2024-12-01\", page_label: \"2\", ref_doc_id: __NULL__, triplet_source_id: \"b7fec670-2ff7-4dcc-8935-03abcbf6c594\"} :Node__{label: \"entity\"} :Entity__{name: \"班级荣誉\"})\n",
       "21                            (\"1. 优秀学生干部\" :Props__{_node_content: __NULL__, _node_type: __NULL__, creation_date: \"2024-12-01\", doc_id: __NULL__, document_id: __NULL__, file_name: \"test.pdf\", file_path: \"/home/ggg/project/rag+kg-nebula/datasets/test.pdf\", file_size: 225015, file_type: \"application/pdf\", last_modified_date: \"2024-12-01\", page_label: \"3\", ref_doc_id: __NULL__, triplet_source_id: \"8cd554cf-ddf1-4f4d-ac16-9b4b5026db58\"} :Node__{label: \"entity\"} :Entity__{name: \"1. 优秀学生干部\"})-[:Relation__@0{label: \"Reward\", triplet_source_id: \"8cd554cf-ddf1-4f4d-ac16-9b4b5026db58\", file_path: \"/home/ggg/project/rag+kg-nebula/datasets/test.pdf\", file_name: \"test.pdf\", file_type: \"application/pdf\", file_size: 225015, _node_type: __NULL__, creation_date: \"2024-12-01\", _node_content: __NULL__, last_modified_date: \"2024-12-01\", document_id: __NULL__, doc_id: __NULL__, ref_doc_id: __NULL__, page_label: \"3\"}]->(\"200元\" :Props__{_node_content: __NULL__, _node_type: __NULL__, creation_date: \"2024-12-01\", doc_id: __NULL__, document_id: __NULL__, file_name: \"test.pdf\", file_path: \"/home/ggg/project/rag+kg-nebula/datasets/test.pdf\", file_size: 225015, file_type: \"application/pdf\", last_modified_date: \"2024-12-01\", page_label: \"3\", ref_doc_id: __NULL__, triplet_source_id: \"8cd554cf-ddf1-4f4d-ac16-9b4b5026db58\"} :Node__{label: \"entity\"} :Entity__{name: \"200元\"})"
      ],
      "text/html": [
       "<div>\n",
       "<style scoped>\n",
       "    .dataframe tbody tr th:only-of-type {\n",
       "        vertical-align: middle;\n",
       "    }\n",
       "\n",
       "    .dataframe tbody tr th {\n",
       "        vertical-align: top;\n",
       "    }\n",
       "\n",
       "    .dataframe thead th {\n",
       "        text-align: right;\n",
       "    }\n",
       "</style>\n",
       "<table border=\"1\" class=\"dataframe\">\n",
       "  <thead>\n",
       "    <tr style=\"text-align: right;\">\n",
       "      <th></th>\n",
       "      <th>p</th>\n",
       "    </tr>\n",
       "  </thead>\n",
       "  <tbody>\n",
       "    <tr>\n",
       "      <th>0</th>\n",
       "      <td>(\"华东理工大学\" :Props__{_node_content: __NULL__, _node_type: __NULL__, creation_date: \"2024-12-01\", doc_id: __NULL__, document_id: __NULL__, file_name: \"test.pdf\", file_path: \"/home/ggg/project/rag+kg-nebula/datasets/test.pdf\", file_size: 225015, file_type: \"application/pdf\", last_modified_date: \"2024-12-01\", page_label: \"1\", ref_doc_id: __NULL__, triplet_source_id: \"85a1d2a7-4e55-429c-960e-f1e81411b5e4\"} :Node__{label: \"entity\"} :Entity__{name: \"华东理工大学\"})-[:Relation__@0{label: \"评选\", triplet_source_id: \"85a1d2a7-4e55-429c-960e-f1e81411b5e4\", file_path: \"/home/ggg/project/rag+kg-nebula/datasets/test.pdf\", file_name: \"test.pdf\", file_type: \"application/pdf\", file_size: 225015, _node_type: __NULL__, creation_date: \"2024-12-01\", _node_content: __NULL__, last_modified_date: \"2024-12-01\", document_id: __NULL__, doc_id: __NULL__, ref_doc_id: __NULL__, page_label: \"1\"}]-&gt;(\"优秀学生\" :Props__{_node_content: __NULL__, _node_type: __NULL__, creation_date: \"2024-12-01\", doc_id: __NULL__, document_id: __NULL__, file_name: \"test.pdf\", file_path: \"/home/ggg/project/rag+kg-nebula/datasets/test.pdf\", file_size: 225015, file_type: \"application/pdf\", last_modified_date: \"2024-12-01\", page_label: \"1\", ref_doc_id: __NULL__, triplet_source_id: \"85a1d2a7-4e55-429c-960e-f1e81411b5e4\"} :Node__{label: \"entity\"} :Entity__{name: \"优秀学生\"})</td>\n",
       "    </tr>\n",
       "    <tr>\n",
       "      <th>1</th>\n",
       "      <td>(\"华东理工大学\" :Props__{_node_content: __NULL__, _node_type: __NULL__, creation_date: \"2024-12-01\", doc_id: __NULL__, document_id: __NULL__, file_name: \"test.pdf\", file_path: \"/home/ggg/project/rag+kg-nebula/datasets/test.pdf\", file_size: 225015, file_type: \"application/pdf\", last_modified_date: \"2024-12-01\", page_label: \"1\", ref_doc_id: __NULL__, triplet_source_id: \"85a1d2a7-4e55-429c-960e-f1e81411b5e4\"} :Node__{label: \"entity\"} :Entity__{name: \"华东理工大学\"})-[:Relation__@0{label: \"评选\", triplet_source_id: \"85a1d2a7-4e55-429c-960e-f1e81411b5e4\", file_path: \"/home/ggg/project/rag+kg-nebula/datasets/test.pdf\", file_name: \"test.pdf\", file_type: \"application/pdf\", file_size: 225015, _node_type: __NULL__, creation_date: \"2024-12-01\", _node_content: __NULL__, last_modified_date: \"2024-12-01\", document_id: __NULL__, doc_id: __NULL__, ref_doc_id: __NULL__, page_label: \"1\"}]-&gt;(\"优秀学生干部\" :Props__{_node_content: __NULL__, _node_type: __NULL__, creation_date: \"2024-12-01\", doc_id: __NULL__, document_id: __NULL__, file_name: \"test.pdf\", file_path: \"/home/ggg/project/rag+kg-nebula/datasets/test.pdf\", file_size: 225015, file_type: \"application/pdf\", last_modified_date: \"2024-12-01\", page_label: \"1\", ref_doc_id: __NULL__, triplet_source_id: \"85a1d2a7-4e55-429c-960e-f1e81411b5e4\"} :Node__{label: \"entity\"} :Entity__{name: \"优秀学生干部\"})</td>\n",
       "    </tr>\n",
       "    <tr>\n",
       "      <th>2</th>\n",
       "      <td>(\"华东理工大学\" :Props__{_node_content: __NULL__, _node_type: __NULL__, creation_date: \"2024-12-01\", doc_id: __NULL__, document_id: __NULL__, file_name: \"test.pdf\", file_path: \"/home/ggg/project/rag+kg-nebula/datasets/test.pdf\", file_size: 225015, file_type: \"application/pdf\", last_modified_date: \"2024-12-01\", page_label: \"1\", ref_doc_id: __NULL__, triplet_source_id: \"85a1d2a7-4e55-429c-960e-f1e81411b5e4\"} :Node__{label: \"entity\"} :Entity__{name: \"华东理工大学\"})-[:Relation__@0{label: \"评选\", triplet_source_id: \"85a1d2a7-4e55-429c-960e-f1e81411b5e4\", file_path: \"/home/ggg/project/rag+kg-nebula/datasets/test.pdf\", file_name: \"test.pdf\", file_type: \"application/pdf\", file_size: 225015, _node_type: __NULL__, creation_date: \"2024-12-01\", _node_content: __NULL__, last_modified_date: \"2024-12-01\", document_id: __NULL__, doc_id: __NULL__, ref_doc_id: __NULL__, page_label: \"1\"}]-&gt;(\"先进集体\" :Props__{_node_content: __NULL__, _node_type: __NULL__, creation_date: \"2024-12-01\", doc_id: __NULL__, document_id: __NULL__, file_name: \"test.pdf\", file_path: \"/home/ggg/project/rag+kg-nebula/datasets/test.pdf\", file_size: 225015, file_type: \"application/pdf\", last_modified_date: \"2024-12-01\", page_label: \"2\", ref_doc_id: __NULL__, triplet_source_id: \"b7fec670-2ff7-4dcc-8935-03abcbf6c594\"} :Node__{label: \"entity\"} :Entity__{name: \"先进集体\"})</td>\n",
       "    </tr>\n",
       "    <tr>\n",
       "      <th>3</th>\n",
       "      <td>(\"华东理工大学\" :Props__{_node_content: __NULL__, _node_type: __NULL__, creation_date: \"2024-12-01\", doc_id: __NULL__, document_id: __NULL__, file_name: \"test.pdf\", file_path: \"/home/ggg/project/rag+kg-nebula/datasets/test.pdf\", file_size: 225015, file_type: \"application/pdf\", last_modified_date: \"2024-12-01\", page_label: \"1\", ref_doc_id: __NULL__, triplet_source_id: \"85a1d2a7-4e55-429c-960e-f1e81411b5e4\"} :Node__{label: \"entity\"} :Entity__{name: \"华东理工大学\"})-[:Relation__@0{label: \"活动\", triplet_source_id: \"85a1d2a7-4e55-429c-960e-f1e81411b5e4\", file_path: \"/home/ggg/project/rag+kg-nebula/datasets/test.pdf\", file_name: \"test.pdf\", file_type: \"application/pdf\", file_size: 225015, _node_type: __NULL__, creation_date: \"2024-12-01\", _node_content: __NULL__, last_modified_date: \"2024-12-01\", document_id: __NULL__, doc_id: __NULL__, ref_doc_id: __NULL__, page_label: \"1\"}]-&gt;(\"全校范围内的本科生先进个人和先进集体评选活动\" :Props__{_node_content: __NULL__, _node_type: __NULL__, creation_date: \"2024-12-01\", doc_id: __NULL__, document_id: __NULL__, file_name: \"test.pdf\", file_path: \"/home/ggg/project/rag+kg-nebula/datasets/test.pdf\", file_size: 225015, file_type: \"application/pdf\", last_modified_date: \"2024-12-01\", page_label: \"1\", ref_doc_id: __NULL__, triplet_source_id: \"85a1d2a7-4e55-429c-960e-f1e81411b5e4\"} :Node__{label: \"entity\"} :Entity__{name: \"全校范围内的本科生先进个人和先进集体评选活动\"})</td>\n",
       "    </tr>\n",
       "    <tr>\n",
       "      <th>4</th>\n",
       "      <td>(\"华东理工大学\" :Props__{_node_content: __NULL__, _node_type: __NULL__, creation_date: \"2024-12-01\", doc_id: __NULL__, document_id: __NULL__, file_name: \"test.pdf\", file_path: \"/home/ggg/project/rag+kg-nebula/datasets/test.pdf\", file_size: 225015, file_type: \"application/pdf\", last_modified_date: \"2024-12-01\", page_label: \"1\", ref_doc_id: __NULL__, triplet_source_id: \"85a1d2a7-4e55-429c-960e-f1e81411b5e4\"} :Node__{label: \"entity\"} :Entity__{name: \"华东理工大学\"})-[:Relation__@0{label: \"目的\", triplet_source_id: \"85a1d2a7-4e55-429c-960e-f1e81411b5e4\", file_path: \"/home/ggg/project/rag+kg-nebula/datasets/test.pdf\", file_name: \"test.pdf\", file_type: \"application/pdf\", file_size: 225015, _node_type: __NULL__, creation_date: \"2024-12-01\", _node_content: __NULL__, last_modified_date: \"2024-12-01\", document_id: __NULL__, doc_id: __NULL__, ref_doc_id: __NULL__, page_label: \"1\"}]-&gt;(\"培养和选树全面发展的人才\" :Props__{_node_content: __NULL__, _node_type: __NULL__, creation_date: \"2024-12-01\", doc_id: __NULL__, document_id: __NULL__, file_name: \"test.pdf\", file_path: \"/home/ggg/project/rag+kg-nebula/datasets/test.pdf\", file_size: 225015, file_type: \"application/pdf\", last_modified_date: \"2024-12-01\", page_label: \"1\", ref_doc_id: __NULL__, triplet_source_id: \"85a1d2a7-4e55-429c-960e-f1e81411b5e4\"} :Node__{label: \"entity\"} :Entity__{name: \"培养和选树全面发展的人才\"})</td>\n",
       "    </tr>\n",
       "    <tr>\n",
       "      <th>5</th>\n",
       "      <td>(\"华东理工大学\" :Props__{_node_content: __NULL__, _node_type: __NULL__, creation_date: \"2024-12-01\", doc_id: __NULL__, document_id: __NULL__, file_name: \"test.pdf\", file_path: \"/home/ggg/project/rag+kg-nebula/datasets/test.pdf\", file_size: 225015, file_type: \"application/pdf\", last_modified_date: \"2024-12-01\", page_label: \"1\", ref_doc_id: __NULL__, triplet_source_id: \"85a1d2a7-4e55-429c-960e-f1e81411b5e4\"} :Node__{label: \"entity\"} :Entity__{name: \"华东理工大学\"})-[:Relation__@0{label: \"目的\", triplet_source_id: \"85a1d2a7-4e55-429c-960e-f1e81411b5e4\", file_path: \"/home/ggg/project/rag+kg-nebula/datasets/test.pdf\", file_name: \"test.pdf\", file_type: \"application/pdf\", file_size: 225015, _node_type: __NULL__, creation_date: \"2024-12-01\", _node_content: __NULL__, last_modified_date: \"2024-12-01\", document_id: __NULL__, doc_id: __NULL__, ref_doc_id: __NULL__, page_label: \"1\"}]-&gt;(\"引导和建设争创先进的优良学风班集体\" :Props__{_node_content: __NULL__, _node_type: __NULL__, creation_date: \"2024-12-01\", doc_id: __NULL__, document_id: __NULL__, file_name: \"test.pdf\", file_path: \"/home/ggg/project/rag+kg-nebula/datasets/test.pdf\", file_size: 225015, file_type: \"application/pdf\", last_modified_date: \"2024-12-01\", page_label: \"1\", ref_doc_id: __NULL__, triplet_source_id: \"85a1d2a7-4e55-429c-960e-f1e81411b5e4\"} :Node__{label: \"entity\"} :Entity__{name: \"引导和建设争创先进的优良学风班集体\"})</td>\n",
       "    </tr>\n",
       "    <tr>\n",
       "      <th>6</th>\n",
       "      <td>(\"华东理工大学\" :Props__{_node_content: __NULL__, _node_type: __NULL__, creation_date: \"2024-12-01\", doc_id: __NULL__, document_id: __NULL__, file_name: \"test.pdf\", file_path: \"/home/ggg/project/rag+kg-nebula/datasets/test.pdf\", file_size: 225015, file_type: \"application/pdf\", last_modified_date: \"2024-12-01\", page_label: \"1\", ref_doc_id: __NULL__, triplet_source_id: \"85a1d2a7-4e55-429c-960e-f1e81411b5e4\"} :Node__{label: \"entity\"} :Entity__{name: \"华东理工大学\"})-[:Relation__@0{label: \"目的\", triplet_source_id: \"85a1d2a7-4e55-429c-960e-f1e81411b5e4\", file_path: \"/home/ggg/project/rag+kg-nebula/datasets/test.pdf\", file_name: \"test.pdf\", file_type: \"application/pdf\", file_size: 225015, _node_type: __NULL__, creation_date: \"2024-12-01\", _node_content: __NULL__, last_modified_date: \"2024-12-01\", document_id: __NULL__, doc_id: __NULL__, ref_doc_id: __NULL__, page_label: \"1\"}]-&gt;(\"服务中国式现代化建设\" :Props__{_node_content: __NULL__, _node_type: __NULL__, creation_date: \"2024-12-01\", doc_id: __NULL__, document_id: __NULL__, file_name: \"test.pdf\", file_path: \"/home/ggg/project/rag+kg-nebula/datasets/test.pdf\", file_size: 225015, file_type: \"application/pdf\", last_modified_date: \"2024-12-01\", page_label: \"1\", ref_doc_id: __NULL__, triplet_source_id: \"85a1d2a7-4e55-429c-960e-f1e81411b5e4\"} :Node__{label: \"entity\"} :Entity__{name: \"服务中国式现代化建设\"})</td>\n",
       "    </tr>\n",
       "    <tr>\n",
       "      <th>7</th>\n",
       "      <td>(\"1. 先进个人\" :Props__{_node_content: __NULL__, _node_type: __NULL__, creation_date: \"2024-12-01\", doc_id: __NULL__, document_id: __NULL__, file_name: \"test.pdf\", file_path: \"/home/ggg/project/rag+kg-nebula/datasets/test.pdf\", file_size: 225015, file_type: \"application/pdf\", last_modified_date: \"2024-12-01\", page_label: \"3\", ref_doc_id: __NULL__, triplet_source_id: \"8cd554cf-ddf1-4f4d-ac16-9b4b5026db58\"} :Node__{label: \"entity\"} :Entity__{name: \"1. 先进个人\"})-[:Relation__@0{label: \"Application\", triplet_source_id: \"8cd554cf-ddf1-4f4d-ac16-9b4b5026db58\", file_path: \"/home/ggg/project/rag+kg-nebula/datasets/test.pdf\", file_name: \"test.pdf\", file_type: \"application/pdf\", file_size: 225015, _node_type: __NULL__, creation_date: \"2024-12-01\", _node_content: __NULL__, last_modified_date: \"2024-12-01\", document_id: __NULL__, doc_id: __NULL__, ref_doc_id: __NULL__, page_label: \"3\"}]-&gt;(\"Student\" :Props__{_node_content: __NULL__, _node_type: __NULL__, creation_date: \"2024-12-01\", doc_id: __NULL__, document_id: __NULL__, file_name: \"test.pdf\", file_path: \"/home/ggg/project/rag+kg-nebula/datasets/test.pdf\", file_size: 225015, file_type: \"application/pdf\", last_modified_date: \"2024-12-01\", page_label: \"3\", ref_doc_id: __NULL__, triplet_source_id: \"8cd554cf-ddf1-4f4d-ac16-9b4b5026db58\"} :Node__{label: \"entity\"} :Entity__{name: \"Student\"})</td>\n",
       "    </tr>\n",
       "    <tr>\n",
       "      <th>8</th>\n",
       "      <td>(\"基本要求\" :Props__{_node_content: __NULL__, _node_type: __NULL__, creation_date: \"2024-12-01\", doc_id: __NULL__, document_id: __NULL__, file_name: \"test.pdf\", file_path: \"/home/ggg/project/rag+kg-nebula/datasets/test.pdf\", file_size: 225015, file_type: \"application/pdf\", last_modified_date: \"2024-12-01\", page_label: \"2\", ref_doc_id: __NULL__, triplet_source_id: \"b7fec670-2ff7-4dcc-8935-03abcbf6c594\"} :Node__{label: \"entity\"} :Entity__{name: \"基本要求\"})-[:Relation__@0{label: \"Includes\", triplet_source_id: \"b7fec670-2ff7-4dcc-8935-03abcbf6c594\", file_path: \"/home/ggg/project/rag+kg-nebula/datasets/test.pdf\", file_name: \"test.pdf\", file_type: \"application/pdf\", file_size: 225015, _node_type: __NULL__, creation_date: \"2024-12-01\", _node_content: __NULL__, last_modified_date: \"2024-12-01\", document_id: __NULL__, doc_id: __NULL__, ref_doc_id: __NULL__, page_label: \"2\"}]-&gt;(\"关心集体\" :Props__{_node_content: __NULL__, _node_type: __NULL__, creation_date: \"2024-12-01\", doc_id: __NULL__, document_id: __NULL__, file_name: \"test.pdf\", file_path: \"/home/ggg/project/rag+kg-nebula/datasets/test.pdf\", file_size: 225015, file_type: \"application/pdf\", last_modified_date: \"2024-12-01\", page_label: \"2\", ref_doc_id: __NULL__, triplet_source_id: \"b7fec670-2ff7-4dcc-8935-03abcbf6c594\"} :Node__{label: \"entity\"} :Entity__{name: \"关心集体\"})</td>\n",
       "    </tr>\n",
       "    <tr>\n",
       "      <th>9</th>\n",
       "      <td>(\"基本要求\" :Props__{_node_content: __NULL__, _node_type: __NULL__, creation_date: \"2024-12-01\", doc_id: __NULL__, document_id: __NULL__, file_name: \"test.pdf\", file_path: \"/home/ggg/project/rag+kg-nebula/datasets/test.pdf\", file_size: 225015, file_type: \"application/pdf\", last_modified_date: \"2024-12-01\", page_label: \"2\", ref_doc_id: __NULL__, triplet_source_id: \"b7fec670-2ff7-4dcc-8935-03abcbf6c594\"} :Node__{label: \"entity\"} :Entity__{name: \"基本要求\"})-[:Relation__@0{label: \"Includes\", triplet_source_id: \"b7fec670-2ff7-4dcc-8935-03abcbf6c594\", file_path: \"/home/ggg/project/rag+kg-nebula/datasets/test.pdf\", file_name: \"test.pdf\", file_type: \"application/pdf\", file_size: 225015, _node_type: __NULL__, creation_date: \"2024-12-01\", _node_content: __NULL__, last_modified_date: \"2024-12-01\", document_id: __NULL__, doc_id: __NULL__, ref_doc_id: __NULL__, page_label: \"2\"}]-&gt;(\"勤奋学习所学专业\" :Props__{_node_content: __NULL__, _node_type: __NULL__, creation_date: \"2024-12-01\", doc_id: __NULL__, document_id: __NULL__, file_name: \"test.pdf\", file_path: \"/home/ggg/project/rag+kg-nebula/datasets/test.pdf\", file_size: 225015, file_type: \"application/pdf\", last_modified_date: \"2024-12-01\", page_label: \"2\", ref_doc_id: __NULL__, triplet_source_id: \"b7fec670-2ff7-4dcc-8935-03abcbf6c594\"} :Node__{label: \"entity\"} :Entity__{name: \"勤奋学习所学专业\"})</td>\n",
       "    </tr>\n",
       "    <tr>\n",
       "      <th>10</th>\n",
       "      <td>(\"基本要求\" :Props__{_node_content: __NULL__, _node_type: __NULL__, creation_date: \"2024-12-01\", doc_id: __NULL__, document_id: __NULL__, file_name: \"test.pdf\", file_path: \"/home/ggg/project/rag+kg-nebula/datasets/test.pdf\", file_size: 225015, file_type: \"application/pdf\", last_modified_date: \"2024-12-01\", page_label: \"2\", ref_doc_id: __NULL__, triplet_source_id: \"b7fec670-2ff7-4dcc-8935-03abcbf6c594\"} :Node__{label: \"entity\"} :Entity__{name: \"基本要求\"})-[:Relation__@0{label: \"Includes\", triplet_source_id: \"b7fec670-2ff7-4dcc-8935-03abcbf6c594\", file_path: \"/home/ggg/project/rag+kg-nebula/datasets/test.pdf\", file_name: \"test.pdf\", file_type: \"application/pdf\", file_size: 225015, _node_type: __NULL__, creation_date: \"2024-12-01\", _node_content: __NULL__, last_modified_date: \"2024-12-01\", document_id: __NULL__, doc_id: __NULL__, ref_doc_id: __NULL__, page_label: \"2\"}]-&gt;(\"拥护党的领导\" :Props__{_node_content: __NULL__, _node_type: __NULL__, creation_date: \"2024-12-01\", doc_id: __NULL__, document_id: __NULL__, file_name: \"test.pdf\", file_path: \"/home/ggg/project/rag+kg-nebula/datasets/test.pdf\", file_size: 225015, file_type: \"application/pdf\", last_modified_date: \"2024-12-01\", page_label: \"2\", ref_doc_id: __NULL__, triplet_source_id: \"b7fec670-2ff7-4dcc-8935-03abcbf6c594\"} :Node__{label: \"entity\"} :Entity__{name: \"拥护党的领导\"})</td>\n",
       "    </tr>\n",
       "    <tr>\n",
       "      <th>11</th>\n",
       "      <td>(\"基本要求\" :Props__{_node_content: __NULL__, _node_type: __NULL__, creation_date: \"2024-12-01\", doc_id: __NULL__, document_id: __NULL__, file_name: \"test.pdf\", file_path: \"/home/ggg/project/rag+kg-nebula/datasets/test.pdf\", file_size: 225015, file_type: \"application/pdf\", last_modified_date: \"2024-12-01\", page_label: \"2\", ref_doc_id: __NULL__, triplet_source_id: \"b7fec670-2ff7-4dcc-8935-03abcbf6c594\"} :Node__{label: \"entity\"} :Entity__{name: \"基本要求\"})-[:Relation__@0{label: \"Includes\", triplet_source_id: \"b7fec670-2ff7-4dcc-8935-03abcbf6c594\", file_path: \"/home/ggg/project/rag+kg-nebula/datasets/test.pdf\", file_name: \"test.pdf\", file_type: \"application/pdf\", file_size: 225015, _node_type: __NULL__, creation_date: \"2024-12-01\", _node_content: __NULL__, last_modified_date: \"2024-12-01\", document_id: __NULL__, doc_id: __NULL__, ref_doc_id: __NULL__, page_label: \"2\"}]-&gt;(\"未受过任何处分\" :Props__{_node_content: __NULL__, _node_type: __NULL__, creation_date: \"2024-12-01\", doc_id: __NULL__, document_id: __NULL__, file_name: \"test.pdf\", file_path: \"/home/ggg/project/rag+kg-nebula/datasets/test.pdf\", file_size: 225015, file_type: \"application/pdf\", last_modified_date: \"2024-12-01\", page_label: \"2\", ref_doc_id: __NULL__, triplet_source_id: \"b7fec670-2ff7-4dcc-8935-03abcbf6c594\"} :Node__{label: \"entity\"} :Entity__{name: \"未受过任何处分\"})</td>\n",
       "    </tr>\n",
       "    <tr>\n",
       "      <th>12</th>\n",
       "      <td>(\"基本要求\" :Props__{_node_content: __NULL__, _node_type: __NULL__, creation_date: \"2024-12-01\", doc_id: __NULL__, document_id: __NULL__, file_name: \"test.pdf\", file_path: \"/home/ggg/project/rag+kg-nebula/datasets/test.pdf\", file_size: 225015, file_type: \"application/pdf\", last_modified_date: \"2024-12-01\", page_label: \"2\", ref_doc_id: __NULL__, triplet_source_id: \"b7fec670-2ff7-4dcc-8935-03abcbf6c594\"} :Node__{label: \"entity\"} :Entity__{name: \"基本要求\"})-[:Relation__@0{label: \"Includes\", triplet_source_id: \"b7fec670-2ff7-4dcc-8935-03abcbf6c594\", file_path: \"/home/ggg/project/rag+kg-nebula/datasets/test.pdf\", file_name: \"test.pdf\", file_type: \"application/pdf\", file_size: 225015, _node_type: __NULL__, creation_date: \"2024-12-01\", _node_content: __NULL__, last_modified_date: \"2024-12-01\", document_id: __NULL__, doc_id: __NULL__, ref_doc_id: __NULL__, page_label: \"2\"}]-&gt;(\"热爱祖国\" :Props__{_node_content: __NULL__, _node_type: __NULL__, creation_date: \"2024-12-01\", doc_id: __NULL__, document_id: __NULL__, file_name: \"test.pdf\", file_path: \"/home/ggg/project/rag+kg-nebula/datasets/test.pdf\", file_size: 225015, file_type: \"application/pdf\", last_modified_date: \"2024-12-01\", page_label: \"2\", ref_doc_id: __NULL__, triplet_source_id: \"b7fec670-2ff7-4dcc-8935-03abcbf6c594\"} :Node__{label: \"entity\"} :Entity__{name: \"热爱祖国\"})</td>\n",
       "    </tr>\n",
       "    <tr>\n",
       "      <th>13</th>\n",
       "      <td>(\"基本要求\" :Props__{_node_content: __NULL__, _node_type: __NULL__, creation_date: \"2024-12-01\", doc_id: __NULL__, document_id: __NULL__, file_name: \"test.pdf\", file_path: \"/home/ggg/project/rag+kg-nebula/datasets/test.pdf\", file_size: 225015, file_type: \"application/pdf\", last_modified_date: \"2024-12-01\", page_label: \"2\", ref_doc_id: __NULL__, triplet_source_id: \"b7fec670-2ff7-4dcc-8935-03abcbf6c594\"} :Node__{label: \"entity\"} :Entity__{name: \"基本要求\"})-[:Relation__@0{label: \"Includes\", triplet_source_id: \"b7fec670-2ff7-4dcc-8935-03abcbf6c594\", file_path: \"/home/ggg/project/rag+kg-nebula/datasets/test.pdf\", file_name: \"test.pdf\", file_type: \"application/pdf\", file_size: 225015, _node_type: __NULL__, creation_date: \"2024-12-01\", _node_content: __NULL__, last_modified_date: \"2024-12-01\", document_id: __NULL__, doc_id: __NULL__, ref_doc_id: __NULL__, page_label: \"2\"}]-&gt;(\"道德品质优良\" :Props__{_node_content: __NULL__, _node_type: __NULL__, creation_date: \"2024-12-01\", doc_id: __NULL__, document_id: __NULL__, file_name: \"test.pdf\", file_path: \"/home/ggg/project/rag+kg-nebula/datasets/test.pdf\", file_size: 225015, file_type: \"application/pdf\", last_modified_date: \"2024-12-01\", page_label: \"2\", ref_doc_id: __NULL__, triplet_source_id: \"b7fec670-2ff7-4dcc-8935-03abcbf6c594\"} :Node__{label: \"entity\"} :Entity__{name: \"道德品质优良\"})</td>\n",
       "    </tr>\n",
       "    <tr>\n",
       "      <th>14</th>\n",
       "      <td>(\"基本要求\" :Props__{_node_content: __NULL__, _node_type: __NULL__, creation_date: \"2024-12-01\", doc_id: __NULL__, document_id: __NULL__, file_name: \"test.pdf\", file_path: \"/home/ggg/project/rag+kg-nebula/datasets/test.pdf\", file_size: 225015, file_type: \"application/pdf\", last_modified_date: \"2024-12-01\", page_label: \"2\", ref_doc_id: __NULL__, triplet_source_id: \"b7fec670-2ff7-4dcc-8935-03abcbf6c594\"} :Node__{label: \"entity\"} :Entity__{name: \"基本要求\"})-[:Relation__@0{label: \"Includes\", triplet_source_id: \"b7fec670-2ff7-4dcc-8935-03abcbf6c594\", file_path: \"/home/ggg/project/rag+kg-nebula/datasets/test.pdf\", file_name: \"test.pdf\", file_type: \"application/pdf\", file_size: 225015, _node_type: __NULL__, creation_date: \"2024-12-01\", _node_content: __NULL__, last_modified_date: \"2024-12-01\", document_id: __NULL__, doc_id: __NULL__, ref_doc_id: __NULL__, page_label: \"2\"}]-&gt;(\"遵守法规和学校制度\" :Props__{_node_content: __NULL__, _node_type: __NULL__, creation_date: \"2024-12-01\", doc_id: __NULL__, document_id: __NULL__, file_name: \"test.pdf\", file_path: \"/home/ggg/project/rag+kg-nebula/datasets/test.pdf\", file_size: 225015, file_type: \"application/pdf\", last_modified_date: \"2024-12-01\", page_label: \"2\", ref_doc_id: __NULL__, triplet_source_id: \"b7fec670-2ff7-4dcc-8935-03abcbf6c594\"} :Node__{label: \"entity\"} :Entity__{name: \"遵守法规和学校制度\"})</td>\n",
       "    </tr>\n",
       "    <tr>\n",
       "      <th>15</th>\n",
       "      <td>(\"1. 优秀学生\" :Props__{_node_content: __NULL__, _node_type: __NULL__, creation_date: \"2024-12-01\", doc_id: __NULL__, document_id: __NULL__, file_name: \"test.pdf\", file_path: \"/home/ggg/project/rag+kg-nebula/datasets/test.pdf\", file_size: 225015, file_type: \"application/pdf\", last_modified_date: \"2024-12-01\", page_label: \"3\", ref_doc_id: __NULL__, triplet_source_id: \"8cd554cf-ddf1-4f4d-ac16-9b4b5026db58\"} :Node__{label: \"entity\"} :Entity__{name: \"1. 优秀学生\"})-[:Relation__@0{label: \"Reward\", triplet_source_id: \"8cd554cf-ddf1-4f4d-ac16-9b4b5026db58\", file_path: \"/home/ggg/project/rag+kg-nebula/datasets/test.pdf\", file_name: \"test.pdf\", file_type: \"application/pdf\", file_size: 225015, _node_type: __NULL__, creation_date: \"2024-12-01\", _node_content: __NULL__, last_modified_date: \"2024-12-01\", document_id: __NULL__, doc_id: __NULL__, ref_doc_id: __NULL__, page_label: \"3\"}]-&gt;(\"200元\" :Props__{_node_content: __NULL__, _node_type: __NULL__, creation_date: \"2024-12-01\", doc_id: __NULL__, document_id: __NULL__, file_name: \"test.pdf\", file_path: \"/home/ggg/project/rag+kg-nebula/datasets/test.pdf\", file_size: 225015, file_type: \"application/pdf\", last_modified_date: \"2024-12-01\", page_label: \"3\", ref_doc_id: __NULL__, triplet_source_id: \"8cd554cf-ddf1-4f4d-ac16-9b4b5026db58\"} :Node__{label: \"entity\"} :Entity__{name: \"200元\"})</td>\n",
       "    </tr>\n",
       "    <tr>\n",
       "      <th>16</th>\n",
       "      <td>(\"2. 十佳班集体\" :Props__{_node_content: __NULL__, _node_type: __NULL__, creation_date: \"2024-12-01\", doc_id: __NULL__, document_id: __NULL__, file_name: \"test.pdf\", file_path: \"/home/ggg/project/rag+kg-nebula/datasets/test.pdf\", file_size: 225015, file_type: \"application/pdf\", last_modified_date: \"2024-12-01\", page_label: \"3\", ref_doc_id: __NULL__, triplet_source_id: \"8cd554cf-ddf1-4f4d-ac16-9b4b5026db58\"} :Node__{label: \"entity\"} :Entity__{name: \"2. 十佳班集体\"})-[:Relation__@0{label: \"Reward\", triplet_source_id: \"8cd554cf-ddf1-4f4d-ac16-9b4b5026db58\", file_path: \"/home/ggg/project/rag+kg-nebula/datasets/test.pdf\", file_name: \"test.pdf\", file_type: \"application/pdf\", file_size: 225015, _node_type: __NULL__, creation_date: \"2024-12-01\", _node_content: __NULL__, last_modified_date: \"2024-12-01\", document_id: __NULL__, doc_id: __NULL__, ref_doc_id: __NULL__, page_label: \"3\"}]-&gt;(\"3000元\" :Props__{_node_content: __NULL__, _node_type: __NULL__, creation_date: \"2024-12-01\", doc_id: __NULL__, document_id: __NULL__, file_name: \"test.pdf\", file_path: \"/home/ggg/project/rag+kg-nebula/datasets/test.pdf\", file_size: 225015, file_type: \"application/pdf\", last_modified_date: \"2024-12-01\", page_label: \"3\", ref_doc_id: __NULL__, triplet_source_id: \"8cd554cf-ddf1-4f4d-ac16-9b4b5026db58\"} :Node__{label: \"entity\"} :Entity__{name: \"3000元\"})</td>\n",
       "    </tr>\n",
       "    <tr>\n",
       "      <th>17</th>\n",
       "      <td>(\"2. 先进班集体\" :Props__{_node_content: __NULL__, _node_type: __NULL__, creation_date: \"2024-12-01\", doc_id: __NULL__, document_id: __NULL__, file_name: \"test.pdf\", file_path: \"/home/ggg/project/rag+kg-nebula/datasets/test.pdf\", file_size: 225015, file_type: \"application/pdf\", last_modified_date: \"2024-12-01\", page_label: \"3\", ref_doc_id: __NULL__, triplet_source_id: \"8cd554cf-ddf1-4f4d-ac16-9b4b5026db58\"} :Node__{label: \"entity\"} :Entity__{name: \"2. 先进班集体\"})-[:Relation__@0{label: \"Reward\", triplet_source_id: \"8cd554cf-ddf1-4f4d-ac16-9b4b5026db58\", file_path: \"/home/ggg/project/rag+kg-nebula/datasets/test.pdf\", file_name: \"test.pdf\", file_type: \"application/pdf\", file_size: 225015, _node_type: __NULL__, creation_date: \"2024-12-01\", _node_content: __NULL__, last_modified_date: \"2024-12-01\", document_id: __NULL__, doc_id: __NULL__, ref_doc_id: __NULL__, page_label: \"3\"}]-&gt;(\"2000元\" :Props__{_node_content: __NULL__, _node_type: __NULL__, creation_date: \"2024-12-01\", doc_id: __NULL__, document_id: __NULL__, file_name: \"test.pdf\", file_path: \"/home/ggg/project/rag+kg-nebula/datasets/test.pdf\", file_size: 225015, file_type: \"application/pdf\", last_modified_date: \"2024-12-01\", page_label: \"3\", ref_doc_id: __NULL__, triplet_source_id: \"8cd554cf-ddf1-4f4d-ac16-9b4b5026db58\"} :Node__{label: \"entity\"} :Entity__{name: \"2000元\"})</td>\n",
       "    </tr>\n",
       "    <tr>\n",
       "      <th>18</th>\n",
       "      <td>(\"2. 优良学风班集体\" :Props__{_node_content: __NULL__, _node_type: __NULL__, creation_date: \"2024-12-01\", doc_id: __NULL__, document_id: __NULL__, file_name: \"test.pdf\", file_path: \"/home/ggg/project/rag+kg-nebula/datasets/test.pdf\", file_size: 225015, file_type: \"application/pdf\", last_modified_date: \"2024-12-01\", page_label: \"3\", ref_doc_id: __NULL__, triplet_source_id: \"8cd554cf-ddf1-4f4d-ac16-9b4b5026db58\"} :Node__{label: \"entity\"} :Entity__{name: \"2. 优良学风班集体\"})-[:Relation__@0{label: \"Reward\", triplet_source_id: \"8cd554cf-ddf1-4f4d-ac16-9b4b5026db58\", file_path: \"/home/ggg/project/rag+kg-nebula/datasets/test.pdf\", file_name: \"test.pdf\", file_type: \"application/pdf\", file_size: 225015, _node_type: __NULL__, creation_date: \"2024-12-01\", _node_content: __NULL__, last_modified_date: \"2024-12-01\", document_id: __NULL__, doc_id: __NULL__, ref_doc_id: __NULL__, page_label: \"3\"}]-&gt;(\"1000元\" :Props__{_node_content: __NULL__, _node_type: __NULL__, creation_date: \"2024-12-01\", doc_id: __NULL__, document_id: __NULL__, file_name: \"test.pdf\", file_path: \"/home/ggg/project/rag+kg-nebula/datasets/test.pdf\", file_size: 225015, file_type: \"application/pdf\", last_modified_date: \"2024-12-01\", page_label: \"3\", ref_doc_id: __NULL__, triplet_source_id: \"8cd554cf-ddf1-4f4d-ac16-9b4b5026db58\"} :Node__{label: \"entity\"} :Entity__{name: \"1000元\"})</td>\n",
       "    </tr>\n",
       "    <tr>\n",
       "      <th>19</th>\n",
       "      <td>(\"3. 先进集体\" :Props__{_node_content: __NULL__, _node_type: __NULL__, creation_date: \"2024-12-01\", doc_id: __NULL__, document_id: __NULL__, file_name: \"test.pdf\", file_path: \"/home/ggg/project/rag+kg-nebula/datasets/test.pdf\", file_size: 225015, file_type: \"application/pdf\", last_modified_date: \"2024-12-01\", page_label: \"3\", ref_doc_id: __NULL__, triplet_source_id: \"8cd554cf-ddf1-4f4d-ac16-9b4b5026db58\"} :Node__{label: \"entity\"} :Entity__{name: \"3. 先进集体\"})-[:Relation__@0{label: \"Reward\", triplet_source_id: \"8cd554cf-ddf1-4f4d-ac16-9b4b5026db58\", file_path: \"/home/ggg/project/rag+kg-nebula/datasets/test.pdf\", file_name: \"test.pdf\", file_type: \"application/pdf\", file_size: 225015, _node_type: __NULL__, creation_date: \"2024-12-01\", _node_content: __NULL__, last_modified_date: \"2024-12-01\", document_id: __NULL__, doc_id: __NULL__, ref_doc_id: __NULL__, page_label: \"3\"}]-&gt;(\"Highest\" :Props__{_node_content: __NULL__, _node_type: __NULL__, creation_date: \"2024-12-01\", doc_id: __NULL__, document_id: __NULL__, file_name: \"test.pdf\", file_path: \"/home/ggg/project/rag+kg-nebula/datasets/test.pdf\", file_size: 225015, file_type: \"application/pdf\", last_modified_date: \"2024-12-01\", page_label: \"3\", ref_doc_id: __NULL__, triplet_source_id: \"8cd554cf-ddf1-4f4d-ac16-9b4b5026db58\"} :Node__{label: \"entity\"} :Entity__{name: \"Highest\"})</td>\n",
       "    </tr>\n",
       "    <tr>\n",
       "      <th>20</th>\n",
       "      <td>(\"先进集体\" :Props__{_node_content: __NULL__, _node_type: __NULL__, creation_date: \"2024-12-01\", doc_id: __NULL__, document_id: __NULL__, file_name: \"test.pdf\", file_path: \"/home/ggg/project/rag+kg-nebula/datasets/test.pdf\", file_size: 225015, file_type: \"application/pdf\", last_modified_date: \"2024-12-01\", page_label: \"2\", ref_doc_id: __NULL__, triplet_source_id: \"b7fec670-2ff7-4dcc-8935-03abcbf6c594\"} :Node__{label: \"entity\"} :Entity__{name: \"先进集体\"})-[:Relation__@0{label: \"Is\", triplet_source_id: \"b7fec670-2ff7-4dcc-8935-03abcbf6c594\", file_path: \"/home/ggg/project/rag+kg-nebula/datasets/test.pdf\", file_name: \"test.pdf\", file_type: \"application/pdf\", file_size: 225015, _node_type: __NULL__, creation_date: \"2024-12-01\", _node_content: __NULL__, last_modified_date: \"2024-12-01\", document_id: __NULL__, doc_id: __NULL__, ref_doc_id: __NULL__, page_label: \"2\"}]-&gt;(\"班级荣誉\" :Props__{_node_content: __NULL__, _node_type: __NULL__, creation_date: \"2024-12-01\", doc_id: __NULL__, document_id: __NULL__, file_name: \"test.pdf\", file_path: \"/home/ggg/project/rag+kg-nebula/datasets/test.pdf\", file_size: 225015, file_type: \"application/pdf\", last_modified_date: \"2024-12-01\", page_label: \"2\", ref_doc_id: __NULL__, triplet_source_id: \"b7fec670-2ff7-4dcc-8935-03abcbf6c594\"} :Node__{label: \"entity\"} :Entity__{name: \"班级荣誉\"})</td>\n",
       "    </tr>\n",
       "    <tr>\n",
       "      <th>21</th>\n",
       "      <td>(\"1. 优秀学生干部\" :Props__{_node_content: __NULL__, _node_type: __NULL__, creation_date: \"2024-12-01\", doc_id: __NULL__, document_id: __NULL__, file_name: \"test.pdf\", file_path: \"/home/ggg/project/rag+kg-nebula/datasets/test.pdf\", file_size: 225015, file_type: \"application/pdf\", last_modified_date: \"2024-12-01\", page_label: \"3\", ref_doc_id: __NULL__, triplet_source_id: \"8cd554cf-ddf1-4f4d-ac16-9b4b5026db58\"} :Node__{label: \"entity\"} :Entity__{name: \"1. 优秀学生干部\"})-[:Relation__@0{label: \"Reward\", triplet_source_id: \"8cd554cf-ddf1-4f4d-ac16-9b4b5026db58\", file_path: \"/home/ggg/project/rag+kg-nebula/datasets/test.pdf\", file_name: \"test.pdf\", file_type: \"application/pdf\", file_size: 225015, _node_type: __NULL__, creation_date: \"2024-12-01\", _node_content: __NULL__, last_modified_date: \"2024-12-01\", document_id: __NULL__, doc_id: __NULL__, ref_doc_id: __NULL__, page_label: \"3\"}]-&gt;(\"200元\" :Props__{_node_content: __NULL__, _node_type: __NULL__, creation_date: \"2024-12-01\", doc_id: __NULL__, document_id: __NULL__, file_name: \"test.pdf\", file_path: \"/home/ggg/project/rag+kg-nebula/datasets/test.pdf\", file_size: 225015, file_type: \"application/pdf\", last_modified_date: \"2024-12-01\", page_label: \"3\", ref_doc_id: __NULL__, triplet_source_id: \"8cd554cf-ddf1-4f4d-ac16-9b4b5026db58\"} :Node__{label: \"entity\"} :Entity__{name: \"200元\"})</td>\n",
       "    </tr>\n",
       "  </tbody>\n",
       "</table>\n",
       "</div>"
      ]
     },
     "execution_count": 21,
     "metadata": {},
     "output_type": "execute_result"
    }
   ],
   "execution_count": 21
  },
  {
   "cell_type": "code",
   "metadata": {
    "ExecuteTime": {
     "end_time": "2024-12-01T11:23:27.167681Z",
     "start_time": "2024-12-01T11:23:26.909785Z"
    }
   },
   "source": [
    "%ng_draw"
   ],
   "outputs": [
    {
     "data": {
      "text/plain": [
       "<IPython.lib.display.IFrame at 0x7f214d6294b0>"
      ],
      "text/html": [
       "\n",
       "        <iframe\n",
       "            width=\"100%\"\n",
       "            height=\"500px\"\n",
       "            src=\"nebulagraph_cell_22.html\"\n",
       "            frameborder=\"0\"\n",
       "            allowfullscreen\n",
       "            \n",
       "        ></iframe>\n",
       "        "
      ]
     },
     "metadata": {},
     "output_type": "display_data"
    },
    {
     "data": {
      "text/plain": [
       "<class 'pyvis.network.Network'> |N|=30 |E|=22"
      ]
     },
     "execution_count": 22,
     "metadata": {},
     "output_type": "execute_result"
    }
   ],
   "execution_count": 22
  },
  {
   "cell_type": "code",
   "metadata": {
    "scrolled": true,
    "ExecuteTime": {
     "end_time": "2024-12-01T11:23:33.489111Z",
     "start_time": "2024-12-01T11:23:29.130028Z"
    }
   },
   "source": [
    "retriever = index.as_retriever(\n",
    "    include_text=False,  # 返回原文，设置为True，如果要让知识图谱根据问题返回节点，设置为False\n",
    ")\n",
    "\n",
    "nodes = retriever.retrieve(\"优秀学生怎么申请？\")\n",
    "\n",
    "for node in nodes:\n",
    "    print(node.text)"
   ],
   "outputs": [
    {
     "name": "stderr",
     "output_type": "stream",
     "text": [
      "Processed prompts: 100%|██████████| 1/1 [00:04<00:00,  4.11s/it, est. speed input: 19.95 toks/s, output: 24.33 toks/s]\n"
     ]
    },
    {
     "name": "stdout",
     "output_type": "stream",
     "text": [
      "优秀学生 -> 评选 -> 华东理工大学\n",
      "1. 优秀学生 -> Reward -> 200元\n",
      "全校范围内的本科生先进个人和先进集体评选活动 -> 活动 -> 华东理工大学\n",
      "引导和建设争创先进的优良学风班集体 -> 目的 -> 华东理工大学\n"
     ]
    }
   ],
   "execution_count": 23
  },
  {
   "cell_type": "code",
   "metadata": {
    "ExecuteTime": {
     "end_time": "2024-12-01T11:23:41.790238Z",
     "start_time": "2024-12-01T11:23:33.491553Z"
    }
   },
   "source": [
    "query_engine = index.as_query_engine(include_text=True)\n",
    "\n",
    "response = query_engine.query(\"优秀学生怎么申请？\")\n",
    "\n",
    "print(str(response))"
   ],
   "outputs": [
    {
     "name": "stderr",
     "output_type": "stream",
     "text": [
      "Processed prompts: 100%|██████████| 1/1 [00:03<00:00,  3.99s/it, est. speed input: 20.57 toks/s, output: 25.09 toks/s]\n",
      "Processed prompts: 100%|██████████| 1/1 [00:04<00:00,  4.04s/it, est. speed input: 288.42 toks/s, output: 24.74 toks/s]"
     ]
    },
    {
     "name": "stdout",
     "output_type": "stream",
     "text": [
      "优秀学生可以通过学工系统在线申请。具体步骤包括：1. 下载填写评审表模板，上传表格附件在线提交；2. 辅导员审核，在线填写意见并提交学院学生工作负责人；3. 审批通过后提交学工部并在学院范围内公示。申请时间为2024年10月15日至19日。请注意，同一学年只能选择一项申请。如有特殊情况，可线下提交材料及汇总表格。此外，辅导员需确保审核\n"
     ]
    },
    {
     "name": "stderr",
     "output_type": "stream",
     "text": [
      "\n"
     ]
    }
   ],
   "execution_count": 24
  }
 ],
 "metadata": {
  "kernelspec": {
   "display_name": "Python 3 (ipykernel)",
   "language": "python",
   "name": "python3"
  },
  "language_info": {
   "codemirror_mode": {
    "name": "ipython",
    "version": 3
   },
   "file_extension": ".py",
   "mimetype": "text/x-python",
   "name": "python",
   "nbconvert_exporter": "python",
   "pygments_lexer": "ipython3",
   "version": "3.10.14"
  }
 },
 "nbformat": 4,
 "nbformat_minor": 4
}
